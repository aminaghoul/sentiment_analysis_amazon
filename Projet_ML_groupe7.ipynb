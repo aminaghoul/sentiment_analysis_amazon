{
  "nbformat": 4,
  "nbformat_minor": 0,
  "metadata": {
    "colab": {
      "name": "Copie de Copie de projet_reviews.ipynb",
      "provenance": [],
      "collapsed_sections": [],
      "toc_visible": true,
      "machine_shape": "hm"
    },
    "kernelspec": {
      "name": "python3",
      "display_name": "Python 3"
    }
  },
  "cells": [
    {
      "cell_type": "code",
      "metadata": {
        "id": "pr0in9WqYt1n",
        "colab_type": "code",
        "colab": {}
      },
      "source": [
        "import warnings\n",
        "warnings.filterwarnings(\"ignore\") \n",
        "\n",
        "import numpy as np\n",
        "\n",
        "from itertools import chain\n",
        "\n",
        "import string\n",
        "\n",
        "from keras.datasets import imdb\n",
        "\n",
        "import matplotlib.pyplot as plt\n",
        "%matplotlib inline\n",
        "\n",
        "import seaborn as sns\n",
        "\n",
        "from sklearn.metrics import accuracy_score\n",
        "from sklearn.discriminant_analysis import LinearDiscriminantAnalysis, QuadraticDiscriminantAnalysis\n",
        "from sklearn.metrics import confusion_matrix, classification_report, precision_score \n",
        "\n",
        "import pickle"
      ],
      "execution_count": 0,
      "outputs": []
    },
    {
      "cell_type": "markdown",
      "metadata": {
        "id": "P5LLecIcN_et",
        "colab_type": "text"
      },
      "source": [
        "## Import des données\n"
      ]
    },
    {
      "cell_type": "code",
      "metadata": {
        "id": "OGlOYaFLYwok",
        "colab_type": "code",
        "outputId": "3b7ee791-f6d2-4809-a3bf-d9970639e24e",
        "colab": {
          "base_uri": "https://localhost:8080/",
          "height": 54
        }
      },
      "source": [
        "from google.colab import drive\n",
        "drive.mount('/content/drive')"
      ],
      "execution_count": 0,
      "outputs": [
        {
          "output_type": "stream",
          "text": [
            "Drive already mounted at /content/drive; to attempt to forcibly remount, call drive.mount(\"/content/drive\", force_remount=True).\n"
          ],
          "name": "stdout"
        }
      ]
    },
    {
      "cell_type": "code",
      "metadata": {
        "id": "8BE87EXtYxHN",
        "colab_type": "code",
        "colab": {}
      },
      "source": [
        "my_path = \"drive/My Drive/amazon/\""
      ],
      "execution_count": 0,
      "outputs": []
    },
    {
      "cell_type": "markdown",
      "metadata": {
        "id": "u__AqNJPNfj-",
        "colab_type": "text"
      },
      "source": [
        "On extrait les tableaux X_train, y_train, X_test, y_test du dataset Amazon reviews."
      ]
    },
    {
      "cell_type": "code",
      "metadata": {
        "id": "QasfbFC9YxMA",
        "colab_type": "code",
        "colab": {}
      },
      "source": [
        "(X_train, y_train), (X_test, y_test) = imdb.load_data()"
      ],
      "execution_count": 0,
      "outputs": []
    },
    {
      "cell_type": "markdown",
      "metadata": {
        "id": "E2s5ivw2CkGQ",
        "colab_type": "text"
      },
      "source": [
        "X_train est composé de 25 000 listes de nombres. \\\\\n",
        "Par exemple, le nombre 3 correspond au 3ème mot le plus fréquent dans le corpus."
      ]
    },
    {
      "cell_type": "markdown",
      "metadata": {
        "id": "1AsazIyEXKNK",
        "colab_type": "text"
      },
      "source": [
        "On crée une fonction decode_review qui transforme les nombres dans X_train en mots."
      ]
    },
    {
      "cell_type": "code",
      "metadata": {
        "id": "2sicuMjGYxRF",
        "colab_type": "code",
        "colab": {}
      },
      "source": [
        "# Un dictionnaire mappant des mots sur un index entier\n",
        "\n",
        "word_index = imdb.get_word_index()\n",
        "\n",
        "# Les premiers index sont réservés\n",
        "word_index = {k:(v+3) for k,v in word_index.items()} \n",
        "word_index[\"<PAD>\"] = 0\n",
        "word_index[\"<START>\"] = 1\n",
        "word_index[\"<UNK>\"] = 2  # inconnu\n",
        "word_index[\"<UNUSED>\"] = 3\n",
        "\n",
        "reverse_word_index = dict([(value, key) for (key, value) in word_index.items()])\n",
        "\n",
        "def decode_review(text):\n",
        "    return ' '.join([reverse_word_index.get(i, '?') for i in text if i !=1])\n"
      ],
      "execution_count": 0,
      "outputs": []
    },
    {
      "cell_type": "markdown",
      "metadata": {
        "id": "BIvVM6Bwo0fA",
        "colab_type": "text"
      },
      "source": [
        "Par exemple, ci-dessous on a décodé le premier commentaire."
      ]
    },
    {
      "cell_type": "code",
      "metadata": {
        "id": "K_zyMB1CY8dU",
        "colab_type": "code",
        "outputId": "c507b88f-35ae-4e25-ea6b-9ea855de1f05",
        "colab": {
          "base_uri": "https://localhost:8080/",
          "height": 54
        }
      },
      "source": [
        "(decode_review(X_train[0]))"
      ],
      "execution_count": 0,
      "outputs": [
        {
          "output_type": "execute_result",
          "data": {
            "text/plain": [
              "\"this film was just brilliant casting location scenery story direction everyone's really suited the part they played and you could just imagine being there robert redford's is an amazing actor and now the same being director norman's father came from the same scottish island as myself so i loved the fact there was a real connection with this film the witty remarks throughout the film were great it was just brilliant so much that i bought the film as soon as it was released for retail and would recommend it to everyone to watch and the fly fishing was amazing really cried at the end it was so sad and you know what they say if you cry at a film it must have been good and this definitely was also congratulations to the two little boy's that played the part's of norman and paul they were just brilliant children are often left out of the praising list i think because the stars that play them all grown up are such a big profile for the whole film but these children are amazing and should be praised for what they have done don't you think the whole story was so lovely because it was true and was someone's life after all that was shared with us all\""
            ]
          },
          "metadata": {
            "tags": []
          },
          "execution_count": 86
        }
      ]
    },
    {
      "cell_type": "markdown",
      "metadata": {
        "id": "EIR94LLzXV2q",
        "colab_type": "text"
      },
      "source": [
        "On représente le nombre de revues dont le label est 0 et le nombre de revues avec un label qui vaut 1 dans l'échantion d'entraînement (0 correspond aux commentaires négatifs et 1 correspond aux commentaires positifs). \\\\\n"
      ]
    },
    {
      "cell_type": "code",
      "metadata": {
        "id": "AwsFIIIqY8hN",
        "colab_type": "code",
        "outputId": "1c4706f7-b6ea-4d7c-b426-5665cd314752",
        "colab": {
          "base_uri": "https://localhost:8080/",
          "height": 281
        }
      },
      "source": [
        "zero = list(y_train).count(0)\n",
        "one = list(y_train).count(1)\n",
        "\n",
        "label = ['0','1']\n",
        "height = [zero, one]\n",
        "y_pos = np.arange(len(label))\n",
        "plt.bar(y_pos, height)\n",
        "plt.xticks(y_pos, label)\n",
        "plt.title('Distribution du nombre 0 et 1 dans le y_train')\n",
        "plt.show()"
      ],
      "execution_count": 0,
      "outputs": [
        {
          "output_type": "display_data",
          "data": {
            "image/png": "[encoded data removed]",
            "text/plain": [
              "<Figure size 432x288 with 1 Axes>"
            ]
          },
          "metadata": {
            "tags": []
          }
        }
      ]
    },
    {
      "cell_type": "code",
      "metadata": {
        "id": "x8cDaXB_YRjT",
        "colab_type": "code",
        "outputId": "cb7ca9e7-84c7-4f67-ff61-647d5a23e036",
        "colab": {
          "base_uri": "https://localhost:8080/",
          "height": 52
        }
      },
      "source": [
        "print(\"Le nombre de 0 dans le y_train est de :\", zero)\n",
        "print(\"Le nombre de 1 dans le y_train est de :\", one)"
      ],
      "execution_count": 0,
      "outputs": [
        {
          "output_type": "stream",
          "text": [
            "Le nombre de 0 dans le y_train est de : 12500\n",
            "Le nombre de 1 dans le y_train est de : 12500\n"
          ],
          "name": "stdout"
        }
      ]
    },
    {
      "cell_type": "markdown",
      "metadata": {
        "id": "bnL53P4ZYJWZ",
        "colab_type": "text"
      },
      "source": [
        "On remarque qu'il y a autant de 0 que de 1 dans le y_train. \\\\\n"
      ]
    },
    {
      "cell_type": "markdown",
      "metadata": {
        "id": "qouDk4AZYqgB",
        "colab_type": "text"
      },
      "source": [
        "## Une partie des données"
      ]
    },
    {
      "cell_type": "markdown",
      "metadata": {
        "id": "rdnzBpyKY8Fl",
        "colab_type": "text"
      },
      "source": [
        "On prend tout d'abord les 30 premières revues du dataset."
      ]
    },
    {
      "cell_type": "code",
      "metadata": {
        "id": "EKVj6Fqmfgxk",
        "colab_type": "code",
        "colab": {}
      },
      "source": [
        "X_sub = [decode_review(X_train[i]) for i in range(30)]\n",
        "\n",
        "y_sub = y_train[0:30]\n",
        "\n",
        "data_sub = {'revue': X_sub, 'label':y_sub}"
      ],
      "execution_count": 0,
      "outputs": []
    },
    {
      "cell_type": "code",
      "metadata": {
        "id": "cHmm_6-3pwSq",
        "colab_type": "code",
        "colab": {}
      },
      "source": [
        "import pandas as pd"
      ],
      "execution_count": 0,
      "outputs": []
    },
    {
      "cell_type": "code",
      "metadata": {
        "id": "aKCq8e-ZEqb1",
        "colab_type": "code",
        "outputId": "b3ec95e9-661d-4b1d-b24a-bda2fbd45ddd",
        "colab": {
          "base_uri": "https://localhost:8080/",
          "height": 206
        }
      },
      "source": [
        "df_sub = pd.DataFrame(data_sub)\n",
        "df_sub.head()"
      ],
      "execution_count": 0,
      "outputs": [
        {
          "output_type": "execute_result",
          "data": {
            "text/html": [
              "<div>\n",
              "<style scoped>\n",
              "    .dataframe tbody tr th:only-of-type {\n",
              "        vertical-align: middle;\n",
              "    }\n",
              "\n",
              "    .dataframe tbody tr th {\n",
              "        vertical-align: top;\n",
              "    }\n",
              "\n",
              "    .dataframe thead th {\n",
              "        text-align: right;\n",
              "    }\n",
              "</style>\n",
              "<table border=\"1\" class=\"dataframe\">\n",
              "  <thead>\n",
              "    <tr style=\"text-align: right;\">\n",
              "      <th></th>\n",
              "      <th>revue</th>\n",
              "      <th>label</th>\n",
              "    </tr>\n",
              "  </thead>\n",
              "  <tbody>\n",
              "    <tr>\n",
              "      <th>0</th>\n",
              "      <td>this film was just brilliant casting location ...</td>\n",
              "      <td>1</td>\n",
              "    </tr>\n",
              "    <tr>\n",
              "      <th>1</th>\n",
              "      <td>big hair big boobs bad music and a giant safet...</td>\n",
              "      <td>0</td>\n",
              "    </tr>\n",
              "    <tr>\n",
              "      <th>2</th>\n",
              "      <td>this has to be one of the worst films of the 1...</td>\n",
              "      <td>0</td>\n",
              "    </tr>\n",
              "    <tr>\n",
              "      <th>3</th>\n",
              "      <td>the scots excel at storytelling the traditiona...</td>\n",
              "      <td>1</td>\n",
              "    </tr>\n",
              "    <tr>\n",
              "      <th>4</th>\n",
              "      <td>worst mistake of my life br br i picked this m...</td>\n",
              "      <td>0</td>\n",
              "    </tr>\n",
              "  </tbody>\n",
              "</table>\n",
              "</div>"
            ],
            "text/plain": [
              "                                               revue  label\n",
              "0  this film was just brilliant casting location ...      1\n",
              "1  big hair big boobs bad music and a giant safet...      0\n",
              "2  this has to be one of the worst films of the 1...      0\n",
              "3  the scots excel at storytelling the traditiona...      1\n",
              "4  worst mistake of my life br br i picked this m...      0"
            ]
          },
          "metadata": {
            "tags": []
          },
          "execution_count": 91
        }
      ]
    },
    {
      "cell_type": "markdown",
      "metadata": {
        "id": "GdWbcGQUu8-o",
        "colab_type": "text"
      },
      "source": [
        "A présent, on cherche à représenter les mots les plus fréquents dans ces 30 commentaires. \\\\\n",
        "On crée alors la fonction most_frequent_words."
      ]
    },
    {
      "cell_type": "code",
      "metadata": {
        "id": "hwxbeYfKrtNs",
        "colab_type": "code",
        "colab": {}
      },
      "source": [
        "from sklearn.feature_extraction.text import CountVectorizer"
      ],
      "execution_count": 0,
      "outputs": []
    },
    {
      "cell_type": "code",
      "metadata": {
        "id": "Rc90EU-5hA4P",
        "colab_type": "code",
        "colab": {}
      },
      "source": [
        "def most_frequent_words(data):\n",
        "    \"\"\"\n",
        "    affiche l'histogramme des mots les plus fréquents d'une liste de chaine de caractères \n",
        "    affiche la taille du dictionnaire\n",
        "    retourne le dictionnaire\n",
        "    :param data: liste de chaine de caractère\n",
        "    :return: le dictionnaire de data\n",
        "    \"\"\" \n",
        "   \n",
        "    count_vect = CountVectorizer()\n",
        "    data_counts = count_vect.fit_transform(data)\n",
        "    dictionary   = count_vect.get_feature_names()\n",
        "    print(\"Taille du dictionnaire : \",len(dictionary))\n",
        "    \n",
        "    word_counts = pd.DataFrame(data_counts.toarray(),columns = dictionary)\n",
        "    word_total_counts = pd.DataFrame()\n",
        "    word_total_counts['count'] = word_counts.sum(axis=0)\n",
        "    word_total_counts['word'] = dictionary\n",
        "    word_total_counts_sorted_top  = word_total_counts.sort_values(by=\"count\",ascending = False).iloc[0:20]\n",
        "    \n",
        "    plt.figure(figsize=(15,8))\n",
        "    sns.barplot(x = word_total_counts_sorted_top.index,y=word_total_counts_sorted_top['count'])\n",
        "    plt.xticks(rotation=90,fontsize=10)\n",
        "    plt.show()\n",
        "    return dictionary"
      ],
      "execution_count": 0,
      "outputs": []
    },
    {
      "cell_type": "markdown",
      "metadata": {
        "id": "2dXOfIl7WqK6",
        "colab_type": "text"
      },
      "source": [
        "On applique cette fonction à X_sub."
      ]
    },
    {
      "cell_type": "code",
      "metadata": {
        "id": "AMjCaR09isRK",
        "colab_type": "code",
        "outputId": "8ecdd807-4304-45b9-cad1-59058173c7ce",
        "colab": {
          "base_uri": "https://localhost:8080/",
          "height": 544
        }
      },
      "source": [
        "dico = most_frequent_words(df_sub['revue'])"
      ],
      "execution_count": 0,
      "outputs": [
        {
          "output_type": "stream",
          "text": [
            "Taille du dictionnaire :  2058\n"
          ],
          "name": "stdout"
        },
        {
          "output_type": "display_data",
          "data": {
            "image/png": "[encoded data removed]",
            "text/plain": [
              "<Figure size 1080x576 with 1 Axes>"
            ]
          },
          "metadata": {
            "tags": []
          }
        }
      ]
    },
    {
      "cell_type": "markdown",
      "metadata": {
        "id": "sfj--jeCJKxk",
        "colab_type": "text"
      },
      "source": [
        "On remarque que les mots les plus fréquents ne sont pas importants. Ils ne nous permettent pas de déterminer si le commentaire est positif ou négatif.\\\\"
      ]
    },
    {
      "cell_type": "code",
      "metadata": {
        "id": "d-Tc67j1ITXm",
        "colab_type": "code",
        "outputId": "cebe3113-1df4-4706-c120-17203823a7f6",
        "colab": {
          "base_uri": "https://localhost:8080/",
          "height": 54
        }
      },
      "source": [
        "print(dico)"
      ],
      "execution_count": 0,
      "outputs": [
        {
          "output_type": "stream",
          "text": [
            "['000', '10', '12', '15', '18th', '19', '1938', '1940', '1975', '1981', '1984', '1990s', '1995', '1998', '2006', '2007', '2008', '25', '40', '40s', '50', '70', '80', '80s', '85', '86', '90s', 'able', 'abomination', 'about', 'above', 'abraham', 'abusive', 'accent', 'accented', 'acceptable', 'accepted', 'accessability', 'accused', 'across', 'act', 'acting', 'actor', 'actors', 'actual', 'actually', 'ada', 'adaption', 'add', 'added', 'addict', 'addicted', 'addition', 'address', 'advani', 'advantage', 'affections', 'after', 'afterwards', 'again', 'against', 'age', 'aged', 'ageing', 'agent', 'agree', 'aimed', 'ain', 'airphone', 'akin', 'akshaye', 'album', 'alec', 'alert', 'alive', 'all', 'almost', 'along', 'also', 'altieri', 'always', 'am', 'amazement', 'amazing', 'ambition', 'american', 'among', 'amores', 'amount', 'amusing', 'an', 'ancient', 'and', 'andrew', 'angles', 'angus', 'anil', 'annoyed', 'annoying', 'another', 'answer', 'antoine', 'any', 'anyone', 'anything', 'aonghas', 'appear', 'appearance', 'appeared', 'appears', 'applauded', 'appointment', 'apporting', 'april', 'archetypes', 'are', 'area', 'aren', 'argument', 'army', 'around', 'arrival', 'art', 'artists', 'as', 'ashwood', 'aside', 'asleep', 'aspect', 'aspiration', 'assets', 'assistants', 'associated', 'at', 'atmosphere', 'attention', 'audience', 'audiences', 'austen', 'australia', 'authenticity', 'autobiography', 'available', 'away', 'awe', 'awesome', 'awful', 'ayesh', 'ayesha', 'babar', 'babes', 'back', 'backed', 'background', 'bad', 'badly', 'bag', 'balan', 'baltimore', 'bars', 'based', 'basement', 'bashing', 'basic', 'bates', 'bath', 'battle', 'battles', 'be', 'bearer', 'beatings', 'beats', 'beaumont', 'beautiful', 'beauty', 'because', 'become', 'beds', 'been', 'before', 'beginning', 'begins', 'behind', 'being', 'bela', 'believe', 'bellicose', 'benefits', 'bereavement', 'besotted', 'best', 'bet', 'better', 'between', 'bewildered', 'beyond', 'bhag', 'bhagam', 'bhatti', 'big', 'bigg', 'bigger', 'bikes', 'bill', 'biopic', 'bit', 'bite', 'bitter', 'black', 'blacked', 'blend', 'blender', 'blighty', 'blood', 'bloody', 'blue', 'blurred', 'boat', 'bodies', 'body', 'bomb', 'bombadier', 'boobs', 'book', 'boredom', 'boring', 'born', 'boss', 'both', 'bottle', 'bought', 'bounce', 'bowl', 'box', 'boy', 'boyfriend', 'br', 'braveheart', 'bravura', 'breadth', 'break', 'breast', 'brides', 'briefly', 'bright', 'brilliant', 'bring', 'brings', 'british', 'broadly', 'brother', 'brothers', 'brought', 'brynner', 'budget', 'build', 'building', 'bullied', 'bullying', 'burn', 'burns', 'bursting', 'but', 'butcher', 'buy', 'by', 'caesar', 'california', 'called', 'calls', 'calm', 'camcorder', 'came', 'camera', 'camp', 'campiness', 'campy', 'can', 'cancer', 'cannot', 'captain', 'capture', 'capturing', 'car', 'cardinal', 'care', 'cares', 'carrère', 'cars', 'cast', 'casting', 'castle', 'catchy', 'caught', 'celebrity', 'cell', 'central', 'century', 'chained', 'chances', 'char', 'character', 'characters', 'charge', 'charlton', 'charm', 'charming', 'charmingly', 'charts', 'chawla', 'cheap', 'check', 'cheesy', 'chestnut', 'chestnuts', 'children', 'chillers', 'chips', 'choose', 'chopping', 'chopra', 'chosen', 'christopher', 'cinema', 'cinematic', 'circle', 'circular', 'city', 'class', 'classes', 'classic', 'classmates', 'claustrophobic', 'clear', 'clegg', 'cleopatra', 'climb', 'climbing', 'close', 'closed', 'closing', 'clothes', 'clue', 'clueless', 'co', 'coaster', 'coffins', 'coincidences', 'colleague', 'college', 'colonel', 'color', 'colors', 'com', 'combat', 'combining', 'come', 'comedy', 'comes', 'comical', 'comments', 'commitment', 'commits', 'common', 'community', 'companion', 'complete', 'completely', 'complimented', 'compound', 'computer', 'conceiving', 'concept', 'concert', 'condemned', 'conflict', 'confused', 'congratulations', 'conjure', 'connect', 'connection', 'consist', 'consistency', 'consistently', 'consists', 'contains', 'continued', 'contrary', 'convinced', 'cop', 'corner', 'corny', 'corpse', 'cory', 'costumes', 'could', 'couldn', 'counting', 'couple', 'couples', 'course', 'cover', 'covered', 'crap', 'crashes', 'credit', 'credits', 'crew', 'cried', 'crisis', 'croft', 'crowd', 'crushed', 'cry', 'crying', 'culloden', 'cupboard', 'curry', 'cursorily', 'cut', 'cute', 'cybill', 'dad', 'dah', 'daisy', 'dalton', 'damn', 'dark', 'darkness', 'darlene', 'dash', 'daughter', 'david', 'davies', 'day', 'days', 'de', 'dead', 'death', 'deaths', 'decade', 'decent', 'dechifered', 'decorated', 'deep', 'deeper', 'deeply', 'definitely', 'definitive', 'deliver', 'demands', 'demille', 'den', 'denver', 'deolali', 'dependable', 'depressing', 'depth', 'deranged', 'derek', 'derived', 'describe', 'described', 'desert', 'desperately', 'despite', 'detractors', 'developed', 'device', 'devices', 'dialog', 'did', 'didn', 'die', 'died', 'difference', 'different', 'difficult', 'diminutive', 'dimwitted', 'dino', 'directed', 'direction', 'director', 'directorial', 'disappeared', 'disappointed', 'disappoints', 'disaster', 'discover', 'discovering', 'discussed', 'discussion', 'dishonest', 'disney', 'dissertation', 'dix', 'do', 'doc', 'doctor', 'documentaries', 'documentary', 'dodgy', 'does', 'doesn', 'doing', 'dollar', 'doltish', 'don', 'donald', 'done', 'dor', 'doubt', 'down', 'downey', 'downright', 'downs', 'dr', 'drama', 'dramatics', 'dramatisation', 'dramatize', 'drawn', 'drops', 'dull', 'duration', 'dvd', 'dvr', 'dwarf', 'each', 'earlier', 'earnt', 'earth', 'easy', 'edition', 'effective', 'effects', 'eight', 'either', 'elderly', 'eldest', 'else', 'embarrasing', 'emmy', 'emotion', 'emotional', 'enchant', 'encountering', 'end', 'endearing', 'ended', 'ending', 'endlessly', 'ends', 'enemy', 'energetic', 'energy', 'engage', 'engaging', 'england', 'english', 'engulf', 'enjoy', 'enjoyment', 'enough', 'ensure', 'ensures', 'enter', 'entire', 'entitled', 'entries', 'episode', 'episodes', 'equal', 'equalling', 'er', 'eric', 'ers', 'especially', 'esra', 'estelle', 'evaluate', 'even', 'event', 'events', 'eventually', 'ever', 'every', 'everyone', 'everything', 'evil', 'evoke', 'evokes', 'exactly', 'examined', 'excel', 'excellent', 'except', 'exceptionally', 'excesses', 'excuse', 'execution', 'existence', 'existent', 'exotic', 'expect', 'expectations', 'expected', 'expecting', 'expects', 'expensive', 'experienced', 'experiences', 'expert', 'explain', 'explaining', 'exploitation', 'explosions', 'expressions', 'extend', 'extent', 'extinguisher', 'extracts', 'extreme', 'eye', 'fabulously', 'facial', 'fact', 'failed', 'fair', 'fairly', 'falls', 'family', 'famous', 'fans', 'fantastic', 'fantasy', 'far', 'faridany', 'fate', 'fateful', 'father', 'featured', 'featuring', 'feeble', 'feel', 'feeling', 'feels', 'felt', 'female', 'few', 'fiction', 'field', 'fighting', 'figure', 'figured', 'filled', 'film', 'filmed', 'films', 'finally', 'find', 'finds', 'fine', 'finest', 'fire', 'firgens', 'first', 'fiscal', 'fishing', 'flamboyant', 'flashforward', 'flat', 'flavor', 'fledged', 'flick', 'flicks', 'floor', 'floors', 'flores', 'flow', 'fluently', 'fluid', 'fly', 'flying', 'focuses', 'folklore', 'follow', 'following', 'fonner', 'food', 'fool', 'for', 'forced', 'forego', 'forgave', 'forget', 'forgettable', 'forgotten', 'fortified', 'fortunetly', 'forum', 'found', 'four', 'francesca', 'francis', 'franics', 'fraud', 'frederic', 'french', 'friend', 'friends', 'frightening', 'frightens', 'from', 'frustrated', 'frustration', 'full', 'fully', 'fun', 'fundamentally', 'funny', 'gaelic', 'gained', 'gals', 'game', 'gang', 'gargantuan', 'generally', 'generated', 'generations', 'genius', 'genuinely', 'george', 'get', 'gets', 'giant', 'girl', 'girls', 'give', 'gives', 'glad', 'glasgow', 'glimpse', 'gloria', 'glory', 'go', 'god', 'goes', 'going', 'gold', 'gone', 'gonna', 'good', 'goody', 'gore', 'gossiping', 'got', 'govinda', 'grace', 'grade', 'graduate', 'graham', 'grand', 'grandfather', 'granted', 'graph', 'grass', 'great', 'grew', 'grey', 'grinding', 'group', 'grow', 'grown', 'guess', 'guinness', 'gulfstream', 'gun', 'gunner', 'guru', 'gutter', 'guy', 'gym', 'had', 'hag', 'hair', 'half', 'hamilton', 'hamiltons', 'hamming', 'handle', 'hands', 'hang', 'hanging', 'happen', 'happened', 'happens', 'hard', 'harmless', 'harris', 'harsh', 'has', 'hash', 'hate', 'have', 'haven', 'having', 'hayes', 'he', 'head', 'headed', 'hear', 'heard', 'heath', 'heaven', 'heavens', 'heavily', 'hefner', 'height', 'helen', 'help', 'helps', 'hence', 'her', 'here', 'heroin', 'heston', 'hewlett', 'hey', 'hiding', 'high', 'highly', 'him', 'himself', 'hindi', 'hindu', 'his', 'historic', 'history', 'hit', 'ho', 'hogging', 'hollywood', 'home', 'hometown', 'honest', 'hooker', 'hope', 'horrendous', 'horrifying', 'horror', 'horrorfest', 'hospital', 'hot', 'hour', 'hours', 'house', 'houses', 'how', 'however', 'howl', 'http', 'huge', 'hugh', 'huh', 'human', 'humanly', 'humor', 'hunchback', 'hundreds', 'husband', 'husbands', 'hydrosphere', 'hyped', 'hypnotised', 'hypocritical', 'hysterically', 'ice', 'icon', 'idea', 'ideas', 'if', 'ignore', 'ii', 'illegitimate', 'im', 'imagination', 'imagine', 'immensely', 'impenetrable', 'important', 'impossible', 'impress', 'imprison', 'in', 'inaccessible', 'incestuous', 'incidental', 'incredibly', 'indeed', 'india', 'indian', 'indians', 'individual', 'inept', 'infant', 'innocent', 'insane', 'inside', 'inspiration', 'intensity', 'intentioned', 'interest', 'interested', 'interesting', 'interiors', 'internet', 'interruptions', 'interviews', 'into', 'introduces', 'invisible', 'invite', 'involvement', 'involving', 'irritating', 'is', 'ishq', 'island', 'isn', 'issue', 'issues', 'it', 'item', 'its', 'itself', 'jackson', 'jade', 'jane', 'japan', 'jaws', 'jealousies', 'jimmy', 'job', 'jockey', 'johar', 'john', 'jokes', 'joking', 'joseph', 'journal', 'journey', 'jr', 'juhee', 'juncture', 'jungle', 'jungles', 'just', 'justly', 'kal', 'kapoor', 'karan', 'keep', 'keeping', 'keller', 'kept', 'ketchup', 'khan', 'khanna', 'kid', 'kidnap', 'kidnaps', 'kill', 'killed', 'killer', 'kills', 'kind', 'kinds', 'kiss', 'kitchen', 'knauf', 'knew', 'know', 'knowles', 'lacerations', 'lacking', 'ladies', 'lady', 'lah', 'lame', 'land', 'landed', 'landing', 'language', 'laputa', 'large', 'larger', 'largest', 'lassalle', 'last', 'late', 'lately', 'later', 'laugh', 'laughable', 'laughed', 'laughing', 'laughs', 'lavish', 'layton', 'lead', 'lean', 'learn', 'learning', 'least', 'leave', 'leaving', 'left', 'legend', 'length', 'leonor', 'lesbian', 'less', 'let', 'letters', 'letting', 'level', 'license', 'lies', 'life', 'light', 'lighting', 'like', 'liked', 'likely', 'lincoln', 'line', 'linear', 'lingers', 'linkage', 'list', 'little', 'live', 'lived', 'lives', 'll', 'local', 'location', 'lofty', 'long', 'look', 'looked', 'looking', 'looks', 'lot', 'lots', 'loud', 'lousy', 'love', 'loved', 'lovelace', 'lovely', 'lover', 'lovers', 'loves', 'low', 'lugosi', 'lumps', 'luxurious', 'luxury', 'mackenzie', 'mad', 'made', 'magic', 'magical', 'main', 'mainly', 'mainstream', 'major', 'make', 'makers', 'makes', 'making', 'malcolm', 'male', 'males', 'mallaig', 'maléfique', 'man', 'manage', 'manages', 'mannerisms', 'many', 'marc', 'march', 'marcus', 'marginally', 'marriage', 'mary', 'mash', 'masterpiece', 'masterson', 'mate', 'material', 'matter', 'maximum', 'may', 'maybe', 'mcdonald', 'mcdowell', 'mckelheer', 'md', 'me', 'mean', 'meandering', 'measures', 'meaty', 'meditate', 'melvyn', 'memorable', 'men', 'mention', 'mentioned', 'mesh', 'message', 'metaphor', 'michael', 'microwave', 'mid', 'middle', 'might', 'mildly', 'mile', 'milk', 'million', 'millionaire', 'millionaires', 'mind', 'miniatures', 'minute', 'misfits', 'mish', 'mistake', 'mists', 'mitchell', 'mix', 'mixture', 'miyazaki', 'mock', 'model', 'models', 'modern', 'mom', 'moment', 'momentarily', 'money', 'monitor', 'monogram', 'monsters', 'montage', 'mood', 'more', 'mormon', 'morning', 'moroccan', 'most', 'mother', 'motion', 'mountain', 'mountains', 'mouth', 'move', 'movement', 'movements', 'movie', 'movies', 'moving', 'much', 'mum', 'muppet', 'murder', 'murdering', 'murders', 'music', 'must', 'my', 'myself', 'mystery', 'na', 'nah', 'nahin', 'name', 'named', 'narrate', 'narrative', 'natural', 'nausicaa', 'naïve', 'neat', 'neater', 'nebraska', 'need', 'needed', 'needs', 'neighbour', 'neither', 'nerves', 'never', 'nevertheless', 'new', 'newcomer', 'newer', 'next', 'nice', 'night', 'nikhil', 'no', 'nobody', 'noir', 'noirish', 'non', 'none', 'nonetheless', 'nope', 'nor', 'norman', 'northam', 'not', 'noted', 'nothing', 'now', 'number', 'nuts', 'obscure', 'obviously', 'occasional', 'occasionally', 'of', 'off', 'office', 'often', 'oh', 'ohhhhh', 'oil', 'ok', 'old', 'older', 'olive', 'on', 'once', 'one', 'ones', 'only', 'opening', 'opinion', 'or', 'original', 'originality', 'oscars', 'other', 'others', 'otherwise', 'ought', 'our', 'out', 'outperforms', 'outside', 'over', 'overacting', 'overall', 'overboard', 'overlook', 'overplay', 'own', 'pace', 'page', 'paid', 'paint', 'paltrow', 'paper', 'par', 'paradigm', 'paramedics', 'parent', 'parents', 'park', 'parkins', 'parricide', 'part', 'particular', 'particularly', 'party', 'pass', 'passage', 'passages', 'passed', 'passion', 'past', 'pastiche', 'pata', 'pathetic', 'patronizing', 'paul', 'paying', 'pays', 'pazu', 'peck', 'pecker', 'penned', 'people', 'peplum', 'perfect', 'performance', 'performances', 'perhaps', 'perros', 'perry', 'petaluma', 'phil', 'phony', 'photo', 'picked', 'picture', 'pictures', 'piece', 'pile', 'pin', 'pinnacle', 'piper', 'pirates', 'place', 'places', 'placing', 'platte', 'play', 'played', 'plays', 'plods', 'plot', 'point', 'pointing', 'poisen', 'poison', 'poisoned', 'police', 'poofs', 'poor', 'pop', 'popcorn', 'popular', 'population', 'portmanteau', 'portray', 'possible', 'potent', 'power', 'powerfully', 'powers', 'practically', 'praised', 'praising', 'preceded', 'predictable', 'predominant', 'pregnant', 'premise', 'preparing', 'preposterous', 'present', 'presiding', 'pretext', 'pretty', 'previous', 'price', 'prison', 'prisoners', 'priyanka', 'probably', 'problem', 'problems', 'produced', 'producers', 'produces', 'production', 'profile', 'project', 'promise', 'promising', 'props', 'prostitute', 'protagonist', 'proverbs', 'proves', 'provide', 'provided', 'provides', 'providing', 'provincial', 'psycho', 'psychological', 'pubescent', 'public', 'pulled', 'pulling', 'punka', 'pure', 'put', 'puts', 'quarter', 'queen', 'question', 'quickly', 'quietly', 'quite', 'quotient', 'quoting', 'race', 'racism', 'racist', 'raised', 'rakhi', 'ram', 'rangi', 'rank', 'rarely', 'rather', 'rating', 're', 'read', 'readily', 'reading', 'real', 'realise', 'reality', 'realized', 'really', 'reason', 'reasonable', 'reasons', 'recall', 'recast', 'received', 'recommend', 'recommended', 'record', 'recorded', 'recovers', 'redeeming', 'redford', 'reduced', 'refer', 'regard', 'regarded', 'reincarnation', 'relationships', 'relax', 'release', 'released', 'relentlessly', 'rely', 'remake', 'remakes', 'remarks', 'remember', 'remind', 'rendering', 'rent', 'rental', 'rented', 'renu', 'repeated', 'repeats', 'replaced', 'report', 'reporter', 'reputation', 'required', 'requirement', 'reservoir', 'response', 'responsibility', 'responsible', 'rest', 'restrained', 'restraints', 'results', 'retail', 'retarded', 'retelling', 'return', 'reused', 'revealed', 'review', 'reviewer', 'reviews', 'revisit', 'revival', 'reynolds', 'richard', 'ride', 'ridiculous', 'ridiculousness', 'riding', 'right', 'river', 'robert', 'rofl', 'role', 'roles', 'roll', 'roller', 'rolling', 'romance', 'romantic', 'rooted', 'rope', 'rough', 'round', 'row', 'rubbish', 'rugged', 'ruining', 'run', 'running', 'runs', 'russian', 'sad', 'sadness', 'safety', 'sage', 'said', 'salaam', 'salman', 'salutory', 'same', 'samuel', 'sandler', 'sanitizing', 'sans', 'sat', 'satirical', 'save', 'saw', 'sawant', 'sawyer', 'say', 'scale', 'scare', 'scared', 'scary', 'scene', 'scenery', 'scenes', 'scepticism', 'school', 'scientist', 'scope', 'scotland', 'scots', 'scottish', 'screen', 'screens', 'script', 'sea', 'seach', 'seachd', 'seasons', 'second', 'sections', 'sedate', 'see', 'seeing', 'seem', 'seemed', 'seems', 'seen', 'semi', 'sense', 'sent', 'sentimental', 'sequences', 'sergeant', 'series', 'serious', 'seriously', 'serve', 'set', 'setna', 'sets', 'setting', 'several', 'sex', 'shades', 'shafeek', 'shallow', 'shame', 'shannon', 'shared', 'she', 'sheeta', 'shepherd', 'shetty', 'shilpa', 'ships', 'shirts', 'shock', 'shook', 'shores', 'short', 'shortly', 'shot', 'shots', 'should', 'shoulders', 'show', 'showdown', 'showing', 'shown', 'shows', 'shrouded', 'shut', 'siblings', 'sick', 'sickening', 'side', 'sign', 'silenced', 'silly', 'silverware', 'similar', 'similarly', 'simple', 'simply', 'sin', 'since', 'sing', 'singing', 'single', 'sister', 'sit', 'sitcom', 'sitcoms', 'situation', 'six', 'sky', 'slasher', 'slaughterhouse', 'sleep', 'slide', 'slightly', 'slop', 'slow', 'slower', 'small', 'smile', 'smithereens', 'snake', 'snakebite', 'so', 'sodden', 'soldiers', 'solid', 'solomons', 'some', 'somebody', 'somehow', 'someone', 'something', 'sometime', 'sometimes', 'somewhere', 'son', 'song', 'songs', 'sons', 'soon', 'sorry', 'sort', 'soul', 'sound', 'sounding', 'soundtrack', 'source', 'spanish', 'speaking', 'special', 'specifically', 'spend', 'sphinx', 'spirited', 'splatter', 'splendid', 'split', 'spoiler', 'spoke', 'spooky', 'spoonfuls', 'sporks', 'squirting', 'stands', 'star', 'staring', 'starred', 'starring', 'stars', 'started', 'starts', 'state', 'stay', 'steamy', 'still', 'stinks', 'stolen', 'stomachs', 'stop', 'stories', 'story', 'storyline', 'storytelling', 'straightforward', 'strange', 'stretches', 'stroke', 'strong', 'strongly', 'structure', 'struggling', 'stuart', 'stuck', 'studios', 'stuff', 'stumble', 'stupid', 'stupidity', 'style', 'sub', 'submarine', 'submissive', 'subtitles', 'suburb', 'suburban', 'succeeds', 'successions', 'such', 'suck', 'suffering', 'sugar', 'sugden', 'suggest', 'suited', 'summit', 'supporting', 'supportive', 'suppose', 'supposed', 'sure', 'surely', 'surprise', 'surprised', 'surrogate', 'suspense', 'sustain', 'sustained', 'sustaining', 'swinton', 'switchblade', 'syd', 'synthesiser', 'take', 'taken', 'takes', 'takia', 'taking', 'talented', 'talk', 'talked', 'talking', 'target', 'tastefully', 'taverner', 'tea', 'teddy', 'tee', 'teenager', 'television', 'tell', 'telling', 'tells', 'tempered', 'tend', 'tender', 'tense', 'tenuous', 'terrible', 'terribly', 'than', 'thank', 'thanks', 'that', 'the', 'theater', 'theatre', 'theindependent', 'their', 'them', 'theme', 'then', 'there', 'these', 'they', 'thimothy', 'thin', 'thing', 'things', 'think', 'thinking', 'thinks', 'third', 'this', 'those', 'though', 'thought', 'three', 'thrill', 'thrilling', 'through', 'throughout', 'throw', 'thrown', 'thunderstorm', 'thy', 'tilda', 'time', 'times', 'timmy', 'title', 'titles', 'to', 'today', 'together', 'told', 'tom', 'tomato', 'tomatoes', 'tommy', 'toned', 'too', 'took', 'top', 'topic', 'topped', 'tormentors', 'toss', 'tossup', 'total', 'totally', 'touch', 'touches', 'touching', 'touchy', 'towards', 'town', 'track', 'traditional', 'tragic', 'trailer', 'translating', 'translucent', 'transvestite', 'trash', 'trashy', 'treacherous', 'treated', 'trees', 'tri', 'tribute', 'tried', 'tries', 'trifle', 'tripe', 'trite', 'triumph', 'troops', 'true', 'truly', 'truth', 'truthful', 'truths', 'try', 'trying', 'tub', 'turkey', 'turn', 'turned', 'turns', 'twenty', 'twice', 'twins', 'twist', 'twisters', 'two', 'type', 'ultimately', 'ultra', 'under', 'understand', 'unfortunately', 'unhappy', 'uninspiring', 'unique', 'unknown', 'unlikable', 'unpardonably', 'unpretentious', 'unsavoury', 'unsure', 'until', 'up', 'upon', 'ups', 'upset', 'urdu', 'us', 'usa', 'use', 'used', 'uses', 'usually', 'utter', 'valette', 'valley', 'value', 'values', 'vanishes', 'varela', 'varying', 've', 'version', 'very', 'victorian', 'video', 'vidya', 'view', 'viewers', 'viewing', 'virtual', 'virtue', 'visits', 'vocal', 'void', 'walk', 'wall', 'wallah', 'walls', 'walmington', 'want', 'wanted', 'wanting', 'wants', 'warbling', 'wardrobes', 'warning', 'wartime', 'was', 'wasn', 'waste', 'wasted', 'watch', 'watchable', 'watched', 'watching', 'water', 'way', 'ways', 'we', 'weak', 'weapons', 'wear', 'wedding', 'weight', 'well', 'wendell', 'went', 'were', 'weren', 'western', 'what', 'whatever', 'when', 'where', 'whether', 'which', 'while', 'whispering', 'whistler', 'white', 'who', 'whole', 'whom', 'whose', 'why', 'wicker', 'wife', 'will', 'willed', 'williams', 'willing', 'windsor', 'winner', 'wiped', 'wise', 'with', 'within', 'without', 'witness', 'witty', 'woman', 'won', 'wonder', 'wonderful', 'wondering', 'wooden', 'words', 'wore', 'work', 'worked', 'working', 'works', 'world', 'worried', 'worse', 'worst', 'worth', 'worthwhile', 'would', 'wouldn', 'wrap', 'wrapped', 'write', 'writer', 'writers', 'writing', 'written', 'wrong', 'www', 'year', 'yearns', 'years', 'yes', 'yet', 'york', 'you', 'young', 'your', 'yourself', 'yul', 'zero']\n"
          ],
          "name": "stdout"
        }
      ]
    },
    {
      "cell_type": "markdown",
      "metadata": {
        "id": "d5yGZ5kIjXRn",
        "colab_type": "text"
      },
      "source": [
        "On remarque également, la présence de nombres dans le dictionnaire qui ne nous intéressent pas pour notre étude. \\\\\n",
        "Il faut alors \"nettoyer les données\" avant de pouvoir appliquer les algorithmes de machine learning."
      ]
    },
    {
      "cell_type": "markdown",
      "metadata": {
        "id": "IPYikdglXMYi",
        "colab_type": "text"
      },
      "source": [
        "##Le data set entier"
      ]
    },
    {
      "cell_type": "markdown",
      "metadata": {
        "id": "3OyxmrY-dQkc",
        "colab_type": "text"
      },
      "source": [
        "On considère maintenant tout le data set. \\\\\n"
      ]
    },
    {
      "cell_type": "markdown",
      "metadata": {
        "id": "R2fz4kQfjXnF",
        "colab_type": "text"
      },
      "source": [
        "On considère que le but de la classification des commentaires en commentaires positifs et négatifs, est de pouvoir classer un nouveau commentaire : s'il est positif ou négatif. De la même manière que de classer des spams."
      ]
    },
    {
      "cell_type": "markdown",
      "metadata": {
        "id": "1uC2F1OHaCAQ",
        "colab_type": "text"
      },
      "source": [
        "On doit alors : \\\\\n",
        "- supprimer la ponctuation\n",
        "- \"lemmatizer\" les mots : par exemple, les mots \"is\", \"are\", \"were\" doivent être transformer en \"be\" en utilisant WordNetLemmatizer() \n",
        "- supprimer les stop words et les mots fréquents qui ne nous renseignent pas sur le caractère positif ou négatif du commentaire. Dans notre cas : on peut supprimer les mots : movie, film, br, one, story ..."
      ]
    },
    {
      "cell_type": "code",
      "metadata": {
        "id": "F_sPHZN5qE13",
        "colab_type": "code",
        "colab": {}
      },
      "source": [
        "import re\n",
        "import unicodedata\n",
        "\n",
        "#Natural language processing tool-kit\n",
        "import nltk    \n",
        "nltk.download('stopwords')\n",
        "nltk.download('wordnet')\n",
        "nltk.download('all')\n",
        "from nltk.corpus import stopwords #Stopwords corpus\n",
        "from nltk.stem import WordNetLemmatizer \n",
        "from nltk.corpus import wordnet"
      ],
      "execution_count": 0,
      "outputs": []
    },
    {
      "cell_type": "markdown",
      "metadata": {
        "id": "maNsmEq0dKOa",
        "colab_type": "text"
      },
      "source": [
        "On définit une fonction clean qui prend comme paramètre une liste du même type que X_train (liste de liste de nombres), et qui retourne une liste de phrases 'nettoyées'."
      ]
    },
    {
      "cell_type": "code",
      "metadata": {
        "id": "c29F_dK9rjs6",
        "colab_type": "code",
        "colab": {}
      },
      "source": [
        "def get_wordnet_pos(word):\n",
        "    \"\"\"Récupère le type de word via nltk et retourne une valeur acceptée par lemmatize() \n",
        "    \"\"\"\n",
        "    tag = nltk.pos_tag([word])[0][1][0].upper()\n",
        "    tag_dict = {\"J\": wordnet.ADJ,\n",
        "                \"N\": wordnet.NOUN,\n",
        "                \"V\": wordnet.VERB,\n",
        "                \"R\": wordnet.ADV}\n",
        "\n",
        "    return tag_dict.get(tag, wordnet.NOUN)\n",
        "  \n",
        "\n",
        "lemmatizer = WordNetLemmatizer() \n",
        "\n",
        "def clean(X):\n",
        "  \"\"\"\n",
        "  retourne corpus_clean\n",
        "  param : X : array contenant des listes de nombres\n",
        "  return : corpus_clean\n",
        "  \"\"\"     \n",
        "  corpus=[decode_review(text) for text in X]\n",
        "  \n",
        "  #supprime toute la ponctuation\n",
        "  translator = str.maketrans('','', string.punctuation)\n",
        "  corpus = [(text).translate(translator) for text in corpus] \n",
        "  \n",
        "  corpus_med = []\n",
        "  for sentence in corpus:\n",
        "    # supprime tous les caractères spéciaux\n",
        "    processed_feature = re.sub(r'\\W', ' ', str(sentence))\n",
        "    \n",
        "    #supprime tous les accents\n",
        "    processed_feature = unicodedata.normalize('NFKD', processed_feature)\n",
        "    processed_feature = processed_feature.encode('ASCII', 'ignore') \n",
        "    processed_feature = processed_feature.decode(\"utf-8\") \n",
        "    \n",
        "    # Supprime tous les nombres\n",
        "    processed_feature = re.sub(r\"\\d\", \"\", processed_feature)\n",
        "    \n",
        "    # Supprime les caractères seuls\n",
        "    processed_feature= re.sub(r'\\s+[a-zA-Z]\\s+', ' ', processed_feature)\n",
        "\n",
        "    #Supprime les caractères seuls du début\n",
        "    processed_feature = re.sub(r'\\^[a-zA-Z]\\s+', ' ', processed_feature) \n",
        "\n",
        "    # Remplace les espaces multiples par un seul espace\n",
        "    processed_feature = re.sub(r'\\s+', ' ', processed_feature, flags=re.I)\n",
        "    \n",
        "    corpus_med.append(processed_feature)\n",
        "    \n",
        "  #création d'un vocabulaire afin d'utiliser lemmatizer une seule fois par mot\n",
        "  vocabulaire = set()\n",
        "  for text in corpus_med:\n",
        "    for word in text.split():\n",
        "      vocabulaire.add(word) \n",
        "  vocabulaire = list(vocabulaire)   \n",
        "  translation_map = {}\n",
        "  for w in set(vocabulaire):\n",
        "    translation_map[w] = lemmatizer.lemmatize(w, get_wordnet_pos(w))\n",
        "    \n",
        "  #corpus \"lemmatisé\"\n",
        "  text_clean = [[translation_map[w] for w in text.split()] for text in corpus_med] \n",
        "  \n",
        "  corpus_clean = [' '.join(ligne) for ligne in text_clean]\n",
        "  \n",
        "  return corpus_clean\n",
        "  \n",
        "  "
      ],
      "execution_count": 0,
      "outputs": []
    },
    {
      "cell_type": "markdown",
      "metadata": {
        "id": "l8MmDKlflxOz",
        "colab_type": "text"
      },
      "source": [
        "On teste cette fonction pour le premier commentaire."
      ]
    },
    {
      "cell_type": "code",
      "metadata": {
        "id": "3hw9wnmul519",
        "colab_type": "code",
        "outputId": "526f7462-5a0a-4a14-970a-efa6a1bb76a6",
        "colab": {
          "base_uri": "https://localhost:8080/",
          "height": 54
        }
      },
      "source": [
        "com = [decode_review(X_train[0])]\n",
        "com"
      ],
      "execution_count": 0,
      "outputs": [
        {
          "output_type": "execute_result",
          "data": {
            "text/plain": [
              "[\"this film was just brilliant casting location scenery story direction everyone's really suited the part they played and you could just imagine being there robert redford's is an amazing actor and now the same being director norman's father came from the same scottish island as myself so i loved the fact there was a real connection with this film the witty remarks throughout the film were great it was just brilliant so much that i bought the film as soon as it was released for retail and would recommend it to everyone to watch and the fly fishing was amazing really cried at the end it was so sad and you know what they say if you cry at a film it must have been good and this definitely was also congratulations to the two little boy's that played the part's of norman and paul they were just brilliant children are often left out of the praising list i think because the stars that play them all grown up are such a big profile for the whole film but these children are amazing and should be praised for what they have done don't you think the whole story was so lovely because it was true and was someone's life after all that was shared with us all\"]"
            ]
          },
          "metadata": {
            "tags": []
          },
          "execution_count": 98
        }
      ]
    },
    {
      "cell_type": "code",
      "metadata": {
        "id": "R8vh4X1lmaws",
        "colab_type": "code",
        "outputId": "7fc6625f-ddb3-478f-f024-ad68741e383e",
        "colab": {
          "base_uri": "https://localhost:8080/",
          "height": 54
        }
      },
      "source": [
        "com_clean = clean(X_train[0:1])\n",
        "com_clean"
      ],
      "execution_count": 0,
      "outputs": [
        {
          "output_type": "execute_result",
          "data": {
            "text/plain": [
              "['this film be just brilliant cast location scenery story direction everyones really suit the part they played and you could just imagine be there robert redford be an amaze actor and now the same be director norman father come from the same scottish island a myself so love the fact there be real connection with this film the witty remark throughout the film be great it be just brilliant so much that bought the film a soon a it be release for retail and would recommend it to everyone to watch and the fly fishing be amaze really cry at the end it be so sad and you know what they say if you cry at film it must have be good and this definitely be also congratulation to the two little boy that played the part of norman and paul they be just brilliant child be often left out of the praise list think because the star that play them all grown up be such big profile for the whole film but these child be amaze and should be praise for what they have do dont you think the whole story be so lovely because it be true and be someone life after all that be share with u all']"
            ]
          },
          "metadata": {
            "tags": []
          },
          "execution_count": 99
        }
      ]
    },
    {
      "cell_type": "code",
      "metadata": {
        "id": "K_nxciwCXYGu",
        "colab_type": "code",
        "colab": {}
      },
      "source": [
        "#on transforme com et com_clean en liste de mots\n",
        "tab_clean = []\n",
        "tab = []\n",
        "\n",
        "for i in com_clean:\n",
        "  for k in i.split():\n",
        "    tab_clean.append(k)\n",
        "\n",
        "for j in com:\n",
        "  for l in j.split():\n",
        "    tab.append(l)\n",
        "\n",
        "#on récupère les mots différents entre les deux listes tab et tab_clean\n",
        "res1 = []\n",
        "res2 = []\n",
        "\n",
        "for i in range(len(tab_clean)):\n",
        "  if tab_clean[i]!=tab[i]:\n",
        "    res1.append(tab_clean[i])\n",
        "    res2.append(tab[i])\n",
        "    \n",
        "\n"
      ],
      "execution_count": 0,
      "outputs": []
    },
    {
      "cell_type": "code",
      "metadata": {
        "id": "hIE9G6v2nIfL",
        "colab_type": "code",
        "outputId": "a9460c4c-5473-4170-937d-dfc4b39fc9a2",
        "colab": {
          "base_uri": "https://localhost:8080/",
          "height": 206
        }
      },
      "source": [
        "lem = {'com': res2, 'com_clean':res1}\n",
        "df_clean = pd.DataFrame(lem)\n",
        "df_clean.head()"
      ],
      "execution_count": 0,
      "outputs": [
        {
          "output_type": "execute_result",
          "data": {
            "text/html": [
              "<div>\n",
              "<style scoped>\n",
              "    .dataframe tbody tr th:only-of-type {\n",
              "        vertical-align: middle;\n",
              "    }\n",
              "\n",
              "    .dataframe tbody tr th {\n",
              "        vertical-align: top;\n",
              "    }\n",
              "\n",
              "    .dataframe thead th {\n",
              "        text-align: right;\n",
              "    }\n",
              "</style>\n",
              "<table border=\"1\" class=\"dataframe\">\n",
              "  <thead>\n",
              "    <tr style=\"text-align: right;\">\n",
              "      <th></th>\n",
              "      <th>com</th>\n",
              "      <th>com_clean</th>\n",
              "    </tr>\n",
              "  </thead>\n",
              "  <tbody>\n",
              "    <tr>\n",
              "      <th>0</th>\n",
              "      <td>was</td>\n",
              "      <td>be</td>\n",
              "    </tr>\n",
              "    <tr>\n",
              "      <th>1</th>\n",
              "      <td>casting</td>\n",
              "      <td>cast</td>\n",
              "    </tr>\n",
              "    <tr>\n",
              "      <th>2</th>\n",
              "      <td>everyone's</td>\n",
              "      <td>everyones</td>\n",
              "    </tr>\n",
              "    <tr>\n",
              "      <th>3</th>\n",
              "      <td>suited</td>\n",
              "      <td>suit</td>\n",
              "    </tr>\n",
              "    <tr>\n",
              "      <th>4</th>\n",
              "      <td>being</td>\n",
              "      <td>be</td>\n",
              "    </tr>\n",
              "  </tbody>\n",
              "</table>\n",
              "</div>"
            ],
            "text/plain": [
              "          com  com_clean\n",
              "0         was         be\n",
              "1     casting       cast\n",
              "2  everyone's  everyones\n",
              "3      suited       suit\n",
              "4       being         be"
            ]
          },
          "metadata": {
            "tags": []
          },
          "execution_count": 101
        }
      ]
    },
    {
      "cell_type": "markdown",
      "metadata": {
        "id": "hwoM-6FRnuXM",
        "colab_type": "text"
      },
      "source": [
        "On remarque que notre fonction clean à l'air de bien fonctionner."
      ]
    },
    {
      "cell_type": "markdown",
      "metadata": {
        "id": "7D5iqLkzgeqS",
        "colab_type": "text"
      },
      "source": [
        "On applique cette fonction à X_train."
      ]
    },
    {
      "cell_type": "code",
      "metadata": {
        "id": "CTXuqGT6tdBq",
        "colab_type": "code",
        "colab": {}
      },
      "source": [
        "corpus_final = clean(X_train)"
      ],
      "execution_count": 0,
      "outputs": []
    },
    {
      "cell_type": "code",
      "metadata": {
        "id": "bOe_QfPqKtgK",
        "colab_type": "code",
        "outputId": "706dfdc2-31b5-4ffe-e8af-591c87a97feb",
        "colab": {
          "base_uri": "https://localhost:8080/",
          "height": 206
        }
      },
      "source": [
        "data = {'revue': corpus_final, 'label':y_train}\n",
        "df = pd.DataFrame(data)\n",
        "df.head()"
      ],
      "execution_count": 0,
      "outputs": [
        {
          "output_type": "execute_result",
          "data": {
            "text/html": [
              "<div>\n",
              "<style scoped>\n",
              "    .dataframe tbody tr th:only-of-type {\n",
              "        vertical-align: middle;\n",
              "    }\n",
              "\n",
              "    .dataframe tbody tr th {\n",
              "        vertical-align: top;\n",
              "    }\n",
              "\n",
              "    .dataframe thead th {\n",
              "        text-align: right;\n",
              "    }\n",
              "</style>\n",
              "<table border=\"1\" class=\"dataframe\">\n",
              "  <thead>\n",
              "    <tr style=\"text-align: right;\">\n",
              "      <th></th>\n",
              "      <th>revue</th>\n",
              "      <th>label</th>\n",
              "    </tr>\n",
              "  </thead>\n",
              "  <tbody>\n",
              "    <tr>\n",
              "      <th>0</th>\n",
              "      <td>this film be just brilliant cast location scen...</td>\n",
              "      <td>1</td>\n",
              "    </tr>\n",
              "    <tr>\n",
              "      <th>1</th>\n",
              "      <td>big hair big boob bad music and giant safety p...</td>\n",
              "      <td>0</td>\n",
              "    </tr>\n",
              "    <tr>\n",
              "      <th>2</th>\n",
              "      <td>this have to be one of the bad film of the whe...</td>\n",
              "      <td>0</td>\n",
              "    </tr>\n",
              "    <tr>\n",
              "      <th>3</th>\n",
              "      <td>the scot excel at storytelling the traditional...</td>\n",
              "      <td>1</td>\n",
              "    </tr>\n",
              "    <tr>\n",
              "      <th>4</th>\n",
              "      <td>bad mistake of my life br br picked this movie...</td>\n",
              "      <td>0</td>\n",
              "    </tr>\n",
              "  </tbody>\n",
              "</table>\n",
              "</div>"
            ],
            "text/plain": [
              "                                               revue  label\n",
              "0  this film be just brilliant cast location scen...      1\n",
              "1  big hair big boob bad music and giant safety p...      0\n",
              "2  this have to be one of the bad film of the whe...      0\n",
              "3  the scot excel at storytelling the traditional...      1\n",
              "4  bad mistake of my life br br picked this movie...      0"
            ]
          },
          "metadata": {
            "tags": []
          },
          "execution_count": 103
        }
      ]
    },
    {
      "cell_type": "markdown",
      "metadata": {
        "id": "AVZtQ0YwoRTk",
        "colab_type": "text"
      },
      "source": [
        "Notre jeu de données contient toujours des mots tels que : the, of, this... \\\\\n",
        "Ce sont des stop words qu'il faudra supprimer."
      ]
    },
    {
      "cell_type": "markdown",
      "metadata": {
        "id": "uThaNjSx4ozU",
        "colab_type": "text"
      },
      "source": [
        "Stop contient les stop words ainsi que les mots que l'on souhaite supprimer du jeu de données."
      ]
    },
    {
      "cell_type": "code",
      "metadata": {
        "id": "UUk0YCkS4oBc",
        "colab_type": "code",
        "outputId": "ce61b973-9692-45bc-f979-c8ac8e5b76ef",
        "colab": {
          "base_uri": "https://localhost:8080/",
          "height": 54
        }
      },
      "source": [
        "stop = set(stopwords.words('english'))\n",
        "stop.update({'br','story','film','movie','movies','one','make','see'})\n",
        "print(stop)\n"
      ],
      "execution_count": 0,
      "outputs": [
        {
          "output_type": "stream",
          "text": [
            "{'hasn', 'before', 'can', 'you', 'about', 'with', 'same', \"you've\", \"aren't\", 'while', 'which', 'will', 'too', 'do', 'at', 'they', \"mustn't\", 'have', 'yourselves', 'don', 't', 'see', 'them', 'we', 'were', 'does', 'in', 'here', 'down', 'on', 'isn', 'nor', 'if', 'further', 'll', 'movies', \"she's\", 'very', 'only', 'ours', 'itself', 'no', 'than', \"doesn't\", 'into', 'after', 'ma', 'be', 'against', 'did', 'up', 'any', 'under', 'film', 'our', 'now', 'shouldn', \"wasn't\", 'what', 'those', 'for', 'hadn', \"it's\", 'as', 'doesn', 'your', 'won', 'm', 'wasn', 'i', 'movie', 'there', 'its', 'by', 'doing', 'other', 'between', \"shouldn't\", 'herself', \"you're\", 'few', 'the', \"won't\", \"wouldn't\", 'how', 'him', \"should've\", 'had', 'wouldn', 'above', 'd', 'until', 'mightn', 'he', 'needn', 'off', 'so', 'to', 'whom', 'that', 'through', \"weren't\", \"you'd\", 'both', 'y', 'yourself', 'my', 'just', 'it', 'own', \"didn't\", 'such', 'a', 'themselves', 'is', \"couldn't\", 'an', 'having', 'am', 'me', 'being', 're', 'hers', 'below', 'from', 've', 'aren', 'or', 'during', 'again', 'one', 'theirs', \"hasn't\", \"shan't\", 'most', 'where', 'didn', 'each', 'weren', 'ain', \"don't\", 'she', 'over', 'because', 'mustn', 'are', 'why', 'should', 'story', 'make', 'yours', \"needn't\", 'all', \"mightn't\", 'some', \"that'll\", 'out', 'has', 'of', 'who', 'more', 'been', 'these', 'haven', 'o', 'their', \"you'll\", \"isn't\", 'but', \"haven't\", 'was', 'this', 'himself', 'not', 'his', 'shan', 'and', 'br', 'when', 'her', 'once', 'ourselves', 'then', \"hadn't\", 's', 'couldn', 'myself'}\n"
          ],
          "name": "stdout"
        }
      ]
    },
    {
      "cell_type": "markdown",
      "metadata": {
        "id": "EiMot5tIkW9E",
        "colab_type": "text"
      },
      "source": [
        "# Avec les counts"
      ]
    },
    {
      "cell_type": "markdown",
      "metadata": {
        "id": "9_pm4s1pMs6H",
        "colab_type": "text"
      },
      "source": [
        "On applique l'objet CountVectorizer qui convertit une collection de documents texte en une matrice creuse."
      ]
    },
    {
      "cell_type": "code",
      "metadata": {
        "id": "4oQIf2rnBAaa",
        "colab_type": "code",
        "colab": {}
      },
      "source": [
        "count_vect = CountVectorizer(stop_words=stop)\n",
        "\n",
        "X_train = count_vect.fit_transform(df['revue'])\n",
        "liste_de_mots = count_vect.get_feature_names()\n",
        "dictionary = set(liste_de_mots)"
      ],
      "execution_count": 0,
      "outputs": []
    },
    {
      "cell_type": "markdown",
      "metadata": {
        "id": "X8jMqZ1i5Drj",
        "colab_type": "text"
      },
      "source": [
        "\n",
        "corpus_test contient tous les commentaires du X_test après avoir supprimer les mots non présents dans dictionary.  "
      ]
    },
    {
      "cell_type": "code",
      "metadata": {
        "id": "3G_Vc1xZohY2",
        "colab_type": "code",
        "colab": {}
      },
      "source": [
        "corpus_test = [' '.join(word for word in line.split() if word in dictionary) for line in clean(X_test)]"
      ],
      "execution_count": 0,
      "outputs": []
    },
    {
      "cell_type": "markdown",
      "metadata": {
        "id": "1LweFW505cqn",
        "colab_type": "text"
      },
      "source": [
        "On transforme ce corpus_test en matrice creuse X_test"
      ]
    },
    {
      "cell_type": "code",
      "metadata": {
        "id": "MjBmfXlHoTr2",
        "colab_type": "code",
        "colab": {}
      },
      "source": [
        "count_vect = CountVectorizer(stop_words=stop,vocabulary=liste_de_mots)\n",
        "X_test = count_vect.fit_transform(corpus_test)\n",
        "assert liste_de_mots == count_vect.get_feature_names() \n"
      ],
      "execution_count": 0,
      "outputs": []
    },
    {
      "cell_type": "markdown",
      "metadata": {
        "id": "gwcNn9_bIMSn",
        "colab_type": "text"
      },
      "source": [
        "On vérifie que la taille du dictionnaire est la même pour X_train et X_test.\n",
        "\n"
      ]
    },
    {
      "cell_type": "code",
      "metadata": {
        "id": "z1cMtCx3r1zI",
        "colab_type": "code",
        "outputId": "8340b229-93ca-4b7b-e15d-50ae8ffc1c60",
        "colab": {
          "base_uri": "https://localhost:8080/",
          "height": 34
        }
      },
      "source": [
        "print(X_train.shape, X_test.shape)"
      ],
      "execution_count": 0,
      "outputs": [
        {
          "output_type": "stream",
          "text": [
            "(25000, 62455) (25000, 62455)\n"
          ],
          "name": "stdout"
        }
      ]
    },
    {
      "cell_type": "markdown",
      "metadata": {
        "id": "XpneMS931eEb",
        "colab_type": "text"
      },
      "source": [
        "On utilise plusieurs algorithmes de classification pour pouvoir comparer leurs accuracy."
      ]
    },
    {
      "cell_type": "code",
      "metadata": {
        "id": "JryROGBN1rZu",
        "colab_type": "code",
        "colab": {}
      },
      "source": [
        "algorithms = []\n",
        "acc = []"
      ],
      "execution_count": 0,
      "outputs": []
    },
    {
      "cell_type": "markdown",
      "metadata": {
        "id": "IvpOAJCbkcxs",
        "colab_type": "text"
      },
      "source": [
        "## Régression logistique"
      ]
    },
    {
      "cell_type": "code",
      "metadata": {
        "id": "0GJGPYzGqUw_",
        "colab_type": "code",
        "colab": {}
      },
      "source": [
        "from sklearn.linear_model import LogisticRegression\n",
        "from sklearn.model_selection import GridSearchCV"
      ],
      "execution_count": 0,
      "outputs": []
    },
    {
      "cell_type": "markdown",
      "metadata": {
        "id": "-jZ2Iz4I8Buo",
        "colab_type": "text"
      },
      "source": [
        "On fait une régression logistique qui utilise une régression Lasso (penalty='l1') de paramètre C.\n",
        "\n",
        "On utilise GridSearchCV pour faire une cross validation en 5-fold pour déterminer le paramètre C qui maximise l'accuracy sur le test."
      ]
    },
    {
      "cell_type": "code",
      "metadata": {
        "id": "ZfN68YN8RblN",
        "colab_type": "code",
        "colab": {}
      },
      "source": [
        "hyper_parameters = [{'C': np.linspace(0.001, 0.75, 5)}] \n",
        "params = dict(penalty='l1')\n",
        "\n",
        "clf = GridSearchCV(LogisticRegression(**params), hyper_parameters, cv=5, scoring='accuracy')"
      ],
      "execution_count": 0,
      "outputs": []
    },
    {
      "cell_type": "code",
      "metadata": {
        "id": "BRILvyANR4I4",
        "colab_type": "code",
        "outputId": "9b10cb70-0d5b-4e8b-dd35-15b14e5b7153",
        "colab": {
          "base_uri": "https://localhost:8080/",
          "height": 243
        }
      },
      "source": [
        "clf.fit(X_train,y_train)"
      ],
      "execution_count": 0,
      "outputs": [
        {
          "output_type": "execute_result",
          "data": {
            "text/plain": [
              "GridSearchCV(cv=5, error_score='raise-deprecating',\n",
              "             estimator=LogisticRegression(C=1.0, class_weight=None, dual=False,\n",
              "                                          fit_intercept=True,\n",
              "                                          intercept_scaling=1, l1_ratio=None,\n",
              "                                          max_iter=100, multi_class='warn',\n",
              "                                          n_jobs=None, penalty='l1',\n",
              "                                          random_state=None, solver='warn',\n",
              "                                          tol=0.0001, verbose=0,\n",
              "                                          warm_start=False),\n",
              "             iid='warn', n_jobs=None,\n",
              "             param_grid=[{'C': array([0.001  , 0.18825, 0.3755 , 0.56275, 0.75   ])}],\n",
              "             pre_dispatch='2*n_jobs', refit=True, return_train_score=False,\n",
              "             scoring='accuracy', verbose=0)"
            ]
          },
          "metadata": {
            "tags": []
          },
          "execution_count": 112
        }
      ]
    },
    {
      "cell_type": "code",
      "metadata": {
        "id": "phYjTMK4ZASY",
        "colab_type": "code",
        "outputId": "16727675-e84f-4ffb-c6ba-ce9330fbde9f",
        "colab": {
          "base_uri": "https://localhost:8080/",
          "height": 313
        }
      },
      "source": [
        "pd.DataFrame(clf.cv_results_).head()"
      ],
      "execution_count": 0,
      "outputs": [
        {
          "output_type": "execute_result",
          "data": {
            "text/html": [
              "<div>\n",
              "<style scoped>\n",
              "    .dataframe tbody tr th:only-of-type {\n",
              "        vertical-align: middle;\n",
              "    }\n",
              "\n",
              "    .dataframe tbody tr th {\n",
              "        vertical-align: top;\n",
              "    }\n",
              "\n",
              "    .dataframe thead th {\n",
              "        text-align: right;\n",
              "    }\n",
              "</style>\n",
              "<table border=\"1\" class=\"dataframe\">\n",
              "  <thead>\n",
              "    <tr style=\"text-align: right;\">\n",
              "      <th></th>\n",
              "      <th>mean_fit_time</th>\n",
              "      <th>std_fit_time</th>\n",
              "      <th>mean_score_time</th>\n",
              "      <th>std_score_time</th>\n",
              "      <th>param_C</th>\n",
              "      <th>params</th>\n",
              "      <th>split0_test_score</th>\n",
              "      <th>split1_test_score</th>\n",
              "      <th>split2_test_score</th>\n",
              "      <th>split3_test_score</th>\n",
              "      <th>split4_test_score</th>\n",
              "      <th>mean_test_score</th>\n",
              "      <th>std_test_score</th>\n",
              "      <th>rank_test_score</th>\n",
              "    </tr>\n",
              "  </thead>\n",
              "  <tbody>\n",
              "    <tr>\n",
              "      <th>0</th>\n",
              "      <td>0.415162</td>\n",
              "      <td>0.037753</td>\n",
              "      <td>0.003823</td>\n",
              "      <td>0.000170</td>\n",
              "      <td>0.001</td>\n",
              "      <td>{'C': 0.001}</td>\n",
              "      <td>0.6464</td>\n",
              "      <td>0.6596</td>\n",
              "      <td>0.6506</td>\n",
              "      <td>0.6518</td>\n",
              "      <td>0.6446</td>\n",
              "      <td>0.65060</td>\n",
              "      <td>0.005217</td>\n",
              "      <td>5</td>\n",
              "    </tr>\n",
              "    <tr>\n",
              "      <th>1</th>\n",
              "      <td>0.558010</td>\n",
              "      <td>0.034214</td>\n",
              "      <td>0.003508</td>\n",
              "      <td>0.000098</td>\n",
              "      <td>0.18825</td>\n",
              "      <td>{'C': 0.18825}</td>\n",
              "      <td>0.8754</td>\n",
              "      <td>0.8746</td>\n",
              "      <td>0.8702</td>\n",
              "      <td>0.8726</td>\n",
              "      <td>0.8704</td>\n",
              "      <td>0.87264</td>\n",
              "      <td>0.002118</td>\n",
              "      <td>2</td>\n",
              "    </tr>\n",
              "    <tr>\n",
              "      <th>2</th>\n",
              "      <td>0.640119</td>\n",
              "      <td>0.025065</td>\n",
              "      <td>0.003532</td>\n",
              "      <td>0.000119</td>\n",
              "      <td>0.3755</td>\n",
              "      <td>{'C': 0.3755}</td>\n",
              "      <td>0.8718</td>\n",
              "      <td>0.8754</td>\n",
              "      <td>0.8732</td>\n",
              "      <td>0.8744</td>\n",
              "      <td>0.8760</td>\n",
              "      <td>0.87416</td>\n",
              "      <td>0.001515</td>\n",
              "      <td>1</td>\n",
              "    </tr>\n",
              "    <tr>\n",
              "      <th>3</th>\n",
              "      <td>0.719588</td>\n",
              "      <td>0.011329</td>\n",
              "      <td>0.003480</td>\n",
              "      <td>0.000100</td>\n",
              "      <td>0.56275</td>\n",
              "      <td>{'C': 0.56275}</td>\n",
              "      <td>0.8674</td>\n",
              "      <td>0.8732</td>\n",
              "      <td>0.8714</td>\n",
              "      <td>0.8690</td>\n",
              "      <td>0.8732</td>\n",
              "      <td>0.87084</td>\n",
              "      <td>0.002310</td>\n",
              "      <td>3</td>\n",
              "    </tr>\n",
              "    <tr>\n",
              "      <th>4</th>\n",
              "      <td>0.801881</td>\n",
              "      <td>0.006711</td>\n",
              "      <td>0.003495</td>\n",
              "      <td>0.000103</td>\n",
              "      <td>0.75</td>\n",
              "      <td>{'C': 0.75}</td>\n",
              "      <td>0.8624</td>\n",
              "      <td>0.8730</td>\n",
              "      <td>0.8724</td>\n",
              "      <td>0.8682</td>\n",
              "      <td>0.8694</td>\n",
              "      <td>0.86908</td>\n",
              "      <td>0.003792</td>\n",
              "      <td>4</td>\n",
              "    </tr>\n",
              "  </tbody>\n",
              "</table>\n",
              "</div>"
            ],
            "text/plain": [
              "   mean_fit_time  std_fit_time  ...  std_test_score  rank_test_score\n",
              "0       0.415162      0.037753  ...        0.005217                5\n",
              "1       0.558010      0.034214  ...        0.002118                2\n",
              "2       0.640119      0.025065  ...        0.001515                1\n",
              "3       0.719588      0.011329  ...        0.002310                3\n",
              "4       0.801881      0.006711  ...        0.003792                4\n",
              "\n",
              "[5 rows x 14 columns]"
            ]
          },
          "metadata": {
            "tags": []
          },
          "execution_count": 113
        }
      ]
    },
    {
      "cell_type": "markdown",
      "metadata": {
        "id": "PeEMtcwg8MQo",
        "colab_type": "text"
      },
      "source": [
        "On trouve que le meilleur paramètre est C = 0.3755.\n",
        "On entraîne alors ce modèle avec X_train, y_train et on prédit ensuite les labels de X_test."
      ]
    },
    {
      "cell_type": "code",
      "metadata": {
        "id": "srQYN36UgKh2",
        "colab_type": "code",
        "outputId": "28bd8395-b7c1-4f13-94ae-6a9fa34e7bd5",
        "colab": {
          "base_uri": "https://localhost:8080/",
          "height": 104
        }
      },
      "source": [
        "logreg = LogisticRegression(**params, **clf.best_params_)\n",
        "\n",
        "logreg.fit(X_train,y_train)"
      ],
      "execution_count": 0,
      "outputs": [
        {
          "output_type": "execute_result",
          "data": {
            "text/plain": [
              "LogisticRegression(C=0.3755, class_weight=None, dual=False, fit_intercept=True,\n",
              "                   intercept_scaling=1, l1_ratio=None, max_iter=100,\n",
              "                   multi_class='warn', n_jobs=None, penalty='l1',\n",
              "                   random_state=None, solver='warn', tol=0.0001, verbose=0,\n",
              "                   warm_start=False)"
            ]
          },
          "metadata": {
            "tags": []
          },
          "execution_count": 114
        }
      ]
    },
    {
      "cell_type": "code",
      "metadata": {
        "id": "j-bkRKxp2rH9",
        "colab_type": "code",
        "outputId": "a089eee2-503e-447d-d716-a367e63a999c",
        "colab": {
          "base_uri": "https://localhost:8080/",
          "height": 34
        }
      },
      "source": [
        "y_pred = logreg.predict(X_test)\n",
        "acc_logi = accuracy_score(logreg.predict(X_test),y_test)\n",
        "\n",
        "algorithms.append('logreg')\n",
        "acc.append(acc_logi)\n",
        "\n",
        "print('Accuracy sur le test: {:.2f}'.format(acc_logi))"
      ],
      "execution_count": 0,
      "outputs": [
        {
          "output_type": "stream",
          "text": [
            "Accuracy sur le test: 0.87\n"
          ],
          "name": "stdout"
        }
      ]
    },
    {
      "cell_type": "markdown",
      "metadata": {
        "id": "R9VXNta-Heu5",
        "colab_type": "text"
      },
      "source": [
        "On affiche la matrice de confusion pour ce modèle."
      ]
    },
    {
      "cell_type": "code",
      "metadata": {
        "id": "q3wvF21nGmBe",
        "colab_type": "code",
        "outputId": "06d794ee-09c0-4036-8a97-2a58d3f2999d",
        "colab": {
          "base_uri": "https://localhost:8080/",
          "height": 52
        }
      },
      "source": [
        "confusion_matrix(y_pred,y_test)"
      ],
      "execution_count": 0,
      "outputs": [
        {
          "output_type": "execute_result",
          "data": {
            "text/plain": [
              "array([[10898,  1663],\n",
              "       [ 1602, 10837]])"
            ]
          },
          "metadata": {
            "tags": []
          },
          "execution_count": 116
        }
      ]
    },
    {
      "cell_type": "markdown",
      "metadata": {
        "id": "QWCVTSMv8mrB",
        "colab_type": "text"
      },
      "source": [
        "On observe que :\n",
        " - il y a 10898 commentaires de X_test pour lesquels : y_test = y_pred = 0 (true positives)\n",
        " - 1661 commentaires de X_test pour lesquels : y_test =1 != y_pred = 0 (false positives)\n",
        " - 1602 commentaires de X_test pour lesquels : y_test =0 != y_pred = 1 (false negatives)\n",
        " - 10839 commentaires de X_test pour lesquels : y_test = y_pred = 1 (true negatives)"
      ]
    },
    {
      "cell_type": "markdown",
      "metadata": {
        "id": "ufnran1_-V21",
        "colab_type": "text"
      },
      "source": [
        "Ce modèle ne s'est pas trompé dans la majorité des cas."
      ]
    },
    {
      "cell_type": "code",
      "metadata": {
        "id": "qqlmzoygKUrb",
        "colab_type": "code",
        "colab": {}
      },
      "source": [
        "import sklearn.metrics as metrics"
      ],
      "execution_count": 0,
      "outputs": []
    },
    {
      "cell_type": "code",
      "metadata": {
        "id": "GbhPkPOXKWA8",
        "colab_type": "code",
        "outputId": "fffe9296-c424-4ead-894a-6edc697d1f3d",
        "colab": {
          "base_uri": "https://localhost:8080/",
          "height": 295
        }
      },
      "source": [
        "fpr1, tpr1, threshold = metrics.roc_curve(y_test, y_pred)\n",
        "roc_auc = metrics.auc(fpr1, tpr1)\n",
        "\n",
        "plt.plot(fpr1, tpr1, marker='.')\n",
        "plt.title(\"Courbe ROC - Régression logistique\")\n",
        "plt.xlabel(\"False positives\")\n",
        "plt.ylabel(\"True positives\")\n",
        "plt.show()\n",
        "\n"
      ],
      "execution_count": 0,
      "outputs": [
        {
          "output_type": "display_data",
          "data": {
            "image/png": "[encoded data removed]",
            "text/plain": [
              "<Figure size 432x288 with 1 Axes>"
            ]
          },
          "metadata": {
            "tags": []
          }
        }
      ]
    },
    {
      "cell_type": "markdown",
      "metadata": {
        "id": "KS7OWTAw3Odt",
        "colab_type": "text"
      },
      "source": [
        "## KNN"
      ]
    },
    {
      "cell_type": "code",
      "metadata": {
        "id": "xX99AgIBqbs1",
        "colab_type": "code",
        "colab": {}
      },
      "source": [
        "from sklearn.neighbors import KNeighborsClassifier"
      ],
      "execution_count": 0,
      "outputs": []
    },
    {
      "cell_type": "markdown",
      "metadata": {
        "id": "Z1ISSPJ-pZQG",
        "colab_type": "text"
      },
      "source": [
        "On cherche un k qui maximise l'accuracy sur le test."
      ]
    },
    {
      "cell_type": "code",
      "metadata": {
        "id": "pIXDYRQ2wkHP",
        "colab_type": "code",
        "outputId": "721521fe-e833-4379-d5df-a503a02dd9d6",
        "colab": {
          "base_uri": "https://localhost:8080/",
          "height": 312
        }
      },
      "source": [
        "result = []\n",
        "n_values = range(70,78)\n",
        "for n in n_values:\n",
        "    clf = KNeighborsClassifier(n_neighbors=n)\n",
        "    clf.fit(X_train, y_train)\n",
        "    Z = clf.predict(X_test)\n",
        "    score = accuracy_score(Z, y_test)\n",
        "    result.append(score)\n",
        "\n",
        "plt.plot(list(n_values), result)\n",
        "plt.xlabel(\"k\")\n",
        "plt.ylabel(\"accuracy\")\n",
        "plt.title(\"Accuracy sur le test en fonction de k\")\n"
      ],
      "execution_count": 0,
      "outputs": [
        {
          "output_type": "execute_result",
          "data": {
            "text/plain": [
              "Text(0.5, 1.0, 'Accuracy sur le test en fonction de k')"
            ]
          },
          "metadata": {
            "tags": []
          },
          "execution_count": 120
        },
        {
          "output_type": "display_data",
          "data": {
            "image/png": "[encoded data removed]",
            "text/plain": [
              "<Figure size 432x288 with 1 Axes>"
            ]
          },
          "metadata": {
            "tags": []
          }
        }
      ]
    },
    {
      "cell_type": "markdown",
      "metadata": {
        "id": "_z1l4A7yphul",
        "colab_type": "text"
      },
      "source": [
        "Graphiquement, on trouve que pour k = 76 l'accuracy est la plus grande."
      ]
    },
    {
      "cell_type": "code",
      "metadata": {
        "id": "IVJuO1rArnIL",
        "colab_type": "code",
        "outputId": "db7d263a-8365-4811-909b-4ced508e532f",
        "colab": {
          "base_uri": "https://localhost:8080/",
          "height": 69
        }
      },
      "source": [
        "\n",
        "classifier = KNeighborsClassifier(n_neighbors=76)\n",
        "classifier.fit(X_train, y_train)\n"
      ],
      "execution_count": 0,
      "outputs": [
        {
          "output_type": "execute_result",
          "data": {
            "text/plain": [
              "KNeighborsClassifier(algorithm='auto', leaf_size=30, metric='minkowski',\n",
              "                     metric_params=None, n_jobs=None, n_neighbors=76, p=2,\n",
              "                     weights='uniform')"
            ]
          },
          "metadata": {
            "tags": []
          },
          "execution_count": 121
        }
      ]
    },
    {
      "cell_type": "code",
      "metadata": {
        "id": "NJ2U39HEx5mU",
        "colab_type": "code",
        "outputId": "8a10b3c4-dbc7-467e-c680-f30b4288d2c5",
        "colab": {
          "base_uri": "https://localhost:8080/",
          "height": 34
        }
      },
      "source": [
        "y_pred = classifier.predict(X_test)\n",
        "acc_knn = accuracy_score(y_pred,y_test)\n",
        "\n",
        "algorithms.append('knn')\n",
        "acc.append(acc_knn)\n",
        "\n",
        "print('Accuracy sur le test: {:.2f}'.format(acc_knn))"
      ],
      "execution_count": 0,
      "outputs": [
        {
          "output_type": "stream",
          "text": [
            "Accuracy sur le test: 0.73\n"
          ],
          "name": "stdout"
        }
      ]
    },
    {
      "cell_type": "markdown",
      "metadata": {
        "colab_type": "text",
        "id": "qNiwZQsfIo7M"
      },
      "source": [
        "On affiche la matrice de confusion pour ce modèle."
      ]
    },
    {
      "cell_type": "code",
      "metadata": {
        "colab_type": "code",
        "outputId": "61834dce-0d82-45ac-affb-01e9cafe3d59",
        "id": "uJkybFVhIo7l",
        "colab": {
          "base_uri": "https://localhost:8080/",
          "height": 52
        }
      },
      "source": [
        "confusion_matrix(y_pred,y_test)"
      ],
      "execution_count": 0,
      "outputs": [
        {
          "output_type": "execute_result",
          "data": {
            "text/plain": [
              "array([[ 7376,  1607],\n",
              "       [ 5124, 10893]])"
            ]
          },
          "metadata": {
            "tags": []
          },
          "execution_count": 123
        }
      ]
    },
    {
      "cell_type": "code",
      "metadata": {
        "id": "BquNaSNXjBD7",
        "colab_type": "code",
        "outputId": "4361239f-7135-4aac-e0ce-2fa033386810",
        "colab": {
          "base_uri": "https://localhost:8080/",
          "height": 295
        }
      },
      "source": [
        "fpr2, tpr2, threshold = metrics.roc_curve(y_test, y_pred)\n",
        "roc_auc = metrics.auc(fpr2, tpr2)\n",
        "plt.plot(fpr2, tpr2, marker='.')\n",
        "plt.title(\"Courbe ROC - kNN\")\n",
        "plt.xlabel(\"False positives\")\n",
        "plt.ylabel(\"True positives\")\n",
        "plt.show()"
      ],
      "execution_count": 0,
      "outputs": [
        {
          "output_type": "display_data",
          "data": {
            "image/png": "[encoded data removed]",
            "text/plain": [
              "<Figure size 432x288 with 1 Axes>"
            ]
          },
          "metadata": {
            "tags": []
          }
        }
      ]
    },
    {
      "cell_type": "markdown",
      "metadata": {
        "id": "8sJ9c0OKuyFV",
        "colab_type": "text"
      },
      "source": [
        "## Arbres de décision"
      ]
    },
    {
      "cell_type": "code",
      "metadata": {
        "id": "Q6lzvGK1r0Lu",
        "colab_type": "code",
        "colab": {}
      },
      "source": [
        "from sklearn.tree import DecisionTreeClassifier"
      ],
      "execution_count": 0,
      "outputs": []
    },
    {
      "cell_type": "markdown",
      "metadata": {
        "id": "HgZh7OBSJqUT",
        "colab_type": "text"
      },
      "source": [
        "On cherche à déterminer la profondeur de l'arbre qui maximise l'accuracy du test."
      ]
    },
    {
      "cell_type": "code",
      "metadata": {
        "id": "XXRaPUsgiSJy",
        "colab_type": "code",
        "colab": {}
      },
      "source": [
        "parameters = {'max_depth':range(13,18)}\n",
        "clf = GridSearchCV(DecisionTreeClassifier(), parameters)\n",
        "clf.fit(X=X_train, y=y_train)\n",
        "tree_model = clf.best_estimator_\n"
      ],
      "execution_count": 0,
      "outputs": []
    },
    {
      "cell_type": "code",
      "metadata": {
        "id": "qEhgJpX2uxMR",
        "colab_type": "code",
        "outputId": "2b037704-165f-434d-ba86-34dbd2db0af8",
        "colab": {
          "base_uri": "https://localhost:8080/",
          "height": 121
        }
      },
      "source": [
        "from sklearn import tree\n",
        "tree = tree.DecisionTreeClassifier(**clf.best_params_)\n",
        "tree.fit(X_train, y_train)"
      ],
      "execution_count": 0,
      "outputs": [
        {
          "output_type": "execute_result",
          "data": {
            "text/plain": [
              "DecisionTreeClassifier(class_weight=None, criterion='gini', max_depth=16,\n",
              "                       max_features=None, max_leaf_nodes=None,\n",
              "                       min_impurity_decrease=0.0, min_impurity_split=None,\n",
              "                       min_samples_leaf=1, min_samples_split=2,\n",
              "                       min_weight_fraction_leaf=0.0, presort=False,\n",
              "                       random_state=None, splitter='best')"
            ]
          },
          "metadata": {
            "tags": []
          },
          "execution_count": 127
        }
      ]
    },
    {
      "cell_type": "markdown",
      "metadata": {
        "id": "pdxD2y7JKRLa",
        "colab_type": "text"
      },
      "source": [
        "On a trouvé comme profondeur de l'arbre 16."
      ]
    },
    {
      "cell_type": "code",
      "metadata": {
        "id": "jTbdsOxHu7l_",
        "colab_type": "code",
        "outputId": "393e683e-0b3e-4f06-9da6-1ad9411148f0",
        "colab": {
          "base_uri": "https://localhost:8080/",
          "height": 34
        }
      },
      "source": [
        "y_pred = tree.predict(X_test)\n",
        "acc_tree = accuracy_score(y_pred,y_test)\n",
        "\n",
        "algorithms.append('tree')\n",
        "acc.append(acc_tree)\n",
        "\n",
        "print('Accuracy sur le test: {:.2f}'.format(acc_tree))"
      ],
      "execution_count": 0,
      "outputs": [
        {
          "output_type": "stream",
          "text": [
            "Accuracy sur le test: 0.75\n"
          ],
          "name": "stdout"
        }
      ]
    },
    {
      "cell_type": "markdown",
      "metadata": {
        "colab_type": "text",
        "id": "cd_8FeDQJGzK"
      },
      "source": [
        "On affiche la matrice de confusion pour ce modèle."
      ]
    },
    {
      "cell_type": "code",
      "metadata": {
        "colab_type": "code",
        "outputId": "47e0c11a-c5c4-4d81-a139-747472cc5dab",
        "id": "NIiQYV39JGzj",
        "colab": {
          "base_uri": "https://localhost:8080/",
          "height": 52
        }
      },
      "source": [
        "confusion_matrix(y_pred,y_test)"
      ],
      "execution_count": 0,
      "outputs": [
        {
          "output_type": "execute_result",
          "data": {
            "text/plain": [
              "array([[ 8299,  2133],\n",
              "       [ 4201, 10367]])"
            ]
          },
          "metadata": {
            "tags": []
          },
          "execution_count": 129
        }
      ]
    },
    {
      "cell_type": "code",
      "metadata": {
        "id": "xIi4BFpRjDyl",
        "colab_type": "code",
        "outputId": "9ad9056b-606c-4552-e383-48fbda071d4a",
        "colab": {
          "base_uri": "https://localhost:8080/",
          "height": 295
        }
      },
      "source": [
        "fpr3, tpr3, threshold = metrics.roc_curve(y_test, y_pred)\n",
        "roc_auc = metrics.auc(fpr3, tpr3)\n",
        "\n",
        "plt.plot(fpr3, tpr3, marker='.')\n",
        "plt.title(\"Courbe ROC - Arbre de décision\")\n",
        "plt.xlabel(\"False positives\")\n",
        "plt.ylabel(\"True positives\")\n",
        "plt.show()"
      ],
      "execution_count": 0,
      "outputs": [
        {
          "output_type": "display_data",
          "data": {
            "image/png": "[encoded data removed]",
            "text/plain": [
              "<Figure size 432x288 with 1 Axes>"
            ]
          },
          "metadata": {
            "tags": []
          }
        }
      ]
    },
    {
      "cell_type": "markdown",
      "metadata": {
        "id": "GjSiMwFNkmYv",
        "colab_type": "text"
      },
      "source": [
        "## Naive Bayes"
      ]
    },
    {
      "cell_type": "code",
      "metadata": {
        "id": "SZxl50qQqmz7",
        "colab_type": "code",
        "colab": {}
      },
      "source": [
        "from sklearn.naive_bayes import MultinomialNB, GaussianNB"
      ],
      "execution_count": 0,
      "outputs": []
    },
    {
      "cell_type": "code",
      "metadata": {
        "id": "f5uE5cxdlClo",
        "colab_type": "code",
        "outputId": "9b107457-4e89-407f-a665-b3799cde7139",
        "colab": {
          "base_uri": "https://localhost:8080/",
          "height": 34
        }
      },
      "source": [
        "NB_counts = MultinomialNB()\n",
        "NB_counts.fit(X=X_train,y=y_train)\n",
        "y_pred = NB_counts.predict(X_test)\n",
        "acc_nbcounts = accuracy_score(y_pred,y_test)\n",
        "\n",
        "algorithms.append('naive bayes')\n",
        "acc.append(acc_nbcounts)\n",
        "\n",
        "print('Accuracy sur le test: {:.2f}'.format(acc_nbcounts))"
      ],
      "execution_count": 0,
      "outputs": [
        {
          "output_type": "stream",
          "text": [
            "Accuracy sur le test: 0.82\n"
          ],
          "name": "stdout"
        }
      ]
    },
    {
      "cell_type": "markdown",
      "metadata": {
        "colab_type": "text",
        "id": "DNzp8YdgJLMf"
      },
      "source": [
        "On affiche la matrice de confusion pour ce modèle."
      ]
    },
    {
      "cell_type": "code",
      "metadata": {
        "colab_type": "code",
        "outputId": "572dcd5d-29df-4ae1-d3bc-c45d8d6af371",
        "id": "v3dASfpQJLMo",
        "colab": {
          "base_uri": "https://localhost:8080/",
          "height": 52
        }
      },
      "source": [
        "confusion_matrix(y_pred,y_test)"
      ],
      "execution_count": 0,
      "outputs": [
        {
          "output_type": "execute_result",
          "data": {
            "text/plain": [
              "array([[10990,  2913],\n",
              "       [ 1510,  9587]])"
            ]
          },
          "metadata": {
            "tags": []
          },
          "execution_count": 133
        }
      ]
    },
    {
      "cell_type": "code",
      "metadata": {
        "id": "r8j5c6XzjFmh",
        "colab_type": "code",
        "outputId": "856309af-e4ac-4ecd-ee4b-76f5be92ba9f",
        "colab": {
          "base_uri": "https://localhost:8080/",
          "height": 295
        }
      },
      "source": [
        "fpr4, tpr4, threshold = metrics.roc_curve(y_test, y_pred)\n",
        "roc_auc = metrics.auc(fpr4, tpr4)\n",
        "\n",
        "plt.plot(fpr4, tpr4, marker='.')\n",
        "\n",
        "plt.title(\"Courbe ROC - Naive Bayes\")\n",
        "plt.xlabel(\"False positives\")\n",
        "plt.ylabel(\"True positives\")\n",
        "plt.show()"
      ],
      "execution_count": 0,
      "outputs": [
        {
          "output_type": "display_data",
          "data": {
            "image/png": "[encoded data removed]",
            "text/plain": [
              "<Figure size 432x288 with 1 Axes>"
            ]
          },
          "metadata": {
            "tags": []
          }
        }
      ]
    },
    {
      "cell_type": "markdown",
      "metadata": {
        "id": "hz6Xb07N41Qr",
        "colab_type": "text"
      },
      "source": [
        "## Graphe count"
      ]
    },
    {
      "cell_type": "markdown",
      "metadata": {
        "id": "DDodgrRCAzy2",
        "colab_type": "text"
      },
      "source": [
        "On observe que l'algorithme produisant la meilleure accuracy sur le test est la régression logistique."
      ]
    },
    {
      "cell_type": "code",
      "metadata": {
        "id": "l-J6XGB81Z0J",
        "colab_type": "code",
        "outputId": "a979a971-1958-4766-d58e-6d5c88fd9e7a",
        "colab": {
          "base_uri": "https://localhost:8080/",
          "height": 312
        }
      },
      "source": [
        "plt.plot(algorithms,acc,'*')\n",
        "plt.title(\"Accuracy sur le test en fonction des différents algorithmes - counts\")\n",
        "plt.xlabel(\"algorithmes\")\n",
        "plt.ylabel(\"accuracy\")"
      ],
      "execution_count": 0,
      "outputs": [
        {
          "output_type": "execute_result",
          "data": {
            "text/plain": [
              "Text(0, 0.5, 'accuracy')"
            ]
          },
          "metadata": {
            "tags": []
          },
          "execution_count": 135
        },
        {
          "output_type": "display_data",
          "data": {
            "image/png": "[encoded data removed]",
            "text/plain": [
              "<Figure size 432x288 with 1 Axes>"
            ]
          },
          "metadata": {
            "tags": []
          }
        }
      ]
    },
    {
      "cell_type": "markdown",
      "metadata": {
        "id": "9MaetmxDjPks",
        "colab_type": "text"
      },
      "source": [
        "Courbes ROC"
      ]
    },
    {
      "cell_type": "code",
      "metadata": {
        "id": "zbgRk65ZlBC-",
        "colab_type": "code",
        "outputId": "ef28d886-d32d-4194-aec8-442076268948",
        "colab": {
          "base_uri": "https://localhost:8080/",
          "height": 295
        }
      },
      "source": [
        "plt.plot(fpr4, tpr4, marker='.',label = 'Naive Bayes')\n",
        "plt.plot(fpr3, tpr3, marker='.',label='Arbres de décision')\n",
        "plt.plot(fpr2, tpr2, marker='.', label='kNN')\n",
        "plt.plot(fpr1, tpr1, marker='.',label = 'régression logistique')\n",
        "plt.title(\"Courbes ROC pour différents algorithmes - Counts\")\n",
        "plt.xlabel(\"False positives\")\n",
        "plt.ylabel(\"True positives\")\n",
        "plt.legend(loc=\"lower right\")\n",
        "plt.show()"
      ],
      "execution_count": 0,
      "outputs": [
        {
          "output_type": "display_data",
          "data": {
            "image/png": "[encoded data removed]",
            "text/plain": [
              "<Figure size 432x288 with 1 Axes>"
            ]
          },
          "metadata": {
            "tags": []
          }
        }
      ]
    },
    {
      "cell_type": "markdown",
      "metadata": {
        "id": "Otx9LRHc_rzN",
        "colab_type": "text"
      },
      "source": [
        "On observe que le meilleur algorithme est la régression logistique pour les counts."
      ]
    },
    {
      "cell_type": "markdown",
      "metadata": {
        "id": "FqtwJzwPlkwa",
        "colab_type": "text"
      },
      "source": [
        "# TF-IDF"
      ]
    },
    {
      "cell_type": "code",
      "metadata": {
        "id": "M01BFWQcq_WG",
        "colab_type": "code",
        "colab": {}
      },
      "source": [
        "from sklearn.feature_extraction.text import TfidfVectorizer, TfidfTransformer"
      ],
      "execution_count": 0,
      "outputs": []
    },
    {
      "cell_type": "markdown",
      "metadata": {
        "id": "XHw-TVBqLGZC",
        "colab_type": "text"
      },
      "source": [
        "TF_IDF est une méthode de pondération qui permet d'évaluer l'importance d'un mot contenu dans un commentaire relativement à un corpus."
      ]
    },
    {
      "cell_type": "code",
      "metadata": {
        "id": "RyPyFVx9mFov",
        "colab_type": "code",
        "colab": {}
      },
      "source": [
        "vectorizer = TfidfVectorizer(stop_words=stop,max_features=10000)\n",
        "X_traintf = vectorizer.fit_transform(corpus_final).toarray()\n",
        "dico = vectorizer.get_feature_names()\n",
        "dictionary = set(dico)"
      ],
      "execution_count": 0,
      "outputs": []
    },
    {
      "cell_type": "markdown",
      "metadata": {
        "id": "uSrm6HVe_8Ok",
        "colab_type": "text"
      },
      "source": [
        "On a limité la taille du dictionnaire à 10 000 mots car sinon le programme plante."
      ]
    },
    {
      "cell_type": "markdown",
      "metadata": {
        "colab_type": "text",
        "id": "agyMkUYVG02_"
      },
      "source": [
        "\n",
        "corpus_test contient tous les commentaires du X_test après avoir supprimer les mots non présents dans dictionary.  "
      ]
    },
    {
      "cell_type": "code",
      "metadata": {
        "colab_type": "code",
        "id": "ojiNggZ1G03B",
        "colab": {}
      },
      "source": [
        "corpus_test = [' '.join(word for word in line.split() if word in dictionary) for line in clean(X_test)]"
      ],
      "execution_count": 0,
      "outputs": []
    },
    {
      "cell_type": "code",
      "metadata": {
        "colab_type": "code",
        "id": "3W6DIYe7G03H",
        "colab": {}
      },
      "source": [
        "vecttf = TfidfVectorizer(stop_words=stop,vocabulary=dico,max_features=10000)\n",
        "X_testtf = vecttf.fit_transform(corpus_test).toarray()\n",
        "assert dico == vecttf.get_feature_names() \n"
      ],
      "execution_count": 0,
      "outputs": []
    },
    {
      "cell_type": "markdown",
      "metadata": {
        "id": "Xi3v9HLX56Ca",
        "colab_type": "text"
      },
      "source": [
        "## Naive Bayes"
      ]
    },
    {
      "cell_type": "code",
      "metadata": {
        "id": "0CSxcxByriSp",
        "colab_type": "code",
        "colab": {}
      },
      "source": [
        "NB_tfidf = GaussianNB()\n",
        "NB_tfidf.fit(X=X_traintf,y=y_train)\n",
        "y_pred = NB_tfidf.predict(X_testtf)\n",
        "acc_nbtfidf=accuracy_score(y_pred,y_test)"
      ],
      "execution_count": 0,
      "outputs": []
    },
    {
      "cell_type": "code",
      "metadata": {
        "id": "plj7TFe6JOeJ",
        "colab_type": "code",
        "outputId": "431019c9-35dc-4f8c-cb79-1d26a286713d",
        "colab": {
          "base_uri": "https://localhost:8080/",
          "height": 34
        }
      },
      "source": [
        "print('Accuracy sur le test: {:.2f}'.format(acc_nbtfidf))"
      ],
      "execution_count": 0,
      "outputs": [
        {
          "output_type": "stream",
          "text": [
            "Accuracy sur le test: 0.69\n"
          ],
          "name": "stdout"
        }
      ]
    },
    {
      "cell_type": "code",
      "metadata": {
        "id": "0DYjtRn_jHWT",
        "colab_type": "code",
        "outputId": "9947bc74-b944-4e01-ace1-aad9f25b5c52",
        "colab": {
          "base_uri": "https://localhost:8080/",
          "height": 295
        }
      },
      "source": [
        "fpr5, tpr5, threshold = metrics.roc_curve(y_test, y_pred)\n",
        "roc_auc = metrics.auc(fpr5, tpr5)\n",
        "\n",
        "plt.plot(fpr5, tpr5, marker='.')\n",
        "\n",
        "plt.title(\"Courbe ROC - Naive Bayes\")\n",
        "plt.xlabel(\"False positives\")\n",
        "plt.ylabel(\"True positives\")\n",
        "plt.show()"
      ],
      "execution_count": 0,
      "outputs": [
        {
          "output_type": "display_data",
          "data": {
            "image/png": "[encoded data removed]",
            "text/plain": [
              "<Figure size 432x288 with 1 Axes>"
            ]
          },
          "metadata": {
            "tags": []
          }
        }
      ]
    },
    {
      "cell_type": "markdown",
      "metadata": {
        "colab_type": "text",
        "id": "lBwDZmiYJWr6"
      },
      "source": [
        "On affiche la matrice de confusion pour ce modèle."
      ]
    },
    {
      "cell_type": "code",
      "metadata": {
        "colab_type": "code",
        "outputId": "20cf8887-e341-4885-ab4a-5089a6edc9e7",
        "id": "sHHMYxNoJWsR",
        "colab": {
          "base_uri": "https://localhost:8080/",
          "height": 52
        }
      },
      "source": [
        "confusion_matrix(y_pred,y_test)"
      ],
      "execution_count": 0,
      "outputs": [
        {
          "output_type": "execute_result",
          "data": {
            "text/plain": [
              "array([[10061,  5234],\n",
              "       [ 2439,  7266]])"
            ]
          },
          "metadata": {
            "tags": []
          },
          "execution_count": 146
        }
      ]
    },
    {
      "cell_type": "markdown",
      "metadata": {
        "id": "kiSCOa52kPcB",
        "colab_type": "text"
      },
      "source": [
        "##LDA"
      ]
    },
    {
      "cell_type": "code",
      "metadata": {
        "id": "4AWiocDLkiXG",
        "colab_type": "code",
        "colab": {}
      },
      "source": [
        "lda = LinearDiscriminantAnalysis()\n",
        "lda.fit(X=X_traintf,y=y_train)\n",
        "y_pred = lda.predict(X_testtf)\n",
        "acc_lda=accuracy_score(y_pred,y_test)"
      ],
      "execution_count": 0,
      "outputs": []
    },
    {
      "cell_type": "code",
      "metadata": {
        "id": "4jXZFn-8Q9JT",
        "colab_type": "code",
        "outputId": "8dc073c4-859e-45e7-cd93-67df15bf7ff7",
        "colab": {
          "base_uri": "https://localhost:8080/",
          "height": 34
        }
      },
      "source": [
        "print('Accuracy sur le test: {:.2f}'.format(acc_lda))"
      ],
      "execution_count": 0,
      "outputs": [
        {
          "output_type": "stream",
          "text": [
            "Accuracy sur le test: 0.79\n"
          ],
          "name": "stdout"
        }
      ]
    },
    {
      "cell_type": "markdown",
      "metadata": {
        "colab_type": "text",
        "id": "WhMwY1PCJYLk"
      },
      "source": [
        "On affiche la matrice de confusion pour ce modèle."
      ]
    },
    {
      "cell_type": "code",
      "metadata": {
        "colab_type": "code",
        "outputId": "fdc52564-9893-4dd3-adf4-baca25b380b1",
        "id": "BHaw0U_ZJYL-",
        "colab": {
          "base_uri": "https://localhost:8080/",
          "height": 52
        }
      },
      "source": [
        "confusion_matrix(y_pred,y_test)"
      ],
      "execution_count": 0,
      "outputs": [
        {
          "output_type": "execute_result",
          "data": {
            "text/plain": [
              "array([[10096,  2807],\n",
              "       [ 2404,  9693]])"
            ]
          },
          "metadata": {
            "tags": []
          },
          "execution_count": 149
        }
      ]
    },
    {
      "cell_type": "code",
      "metadata": {
        "id": "jMkqreTCjKJx",
        "colab_type": "code",
        "outputId": "839616de-821a-45c9-9bb6-77a08472deeb",
        "colab": {
          "base_uri": "https://localhost:8080/",
          "height": 295
        }
      },
      "source": [
        "fpr6, tpr6, threshold = metrics.roc_curve(y_test, y_pred)\n",
        "roc_auc = metrics.auc(fpr6, tpr6)\n",
        "\n",
        "plt.plot(fpr6, tpr6, marker='.')\n",
        "\n",
        "plt.title(\"Courbe ROC - LDA\")\n",
        "plt.xlabel(\"False positives\")\n",
        "plt.ylabel(\"True positives\")\n",
        "plt.show()"
      ],
      "execution_count": 0,
      "outputs": [
        {
          "output_type": "display_data",
          "data": {
            "image/png": "[encoded data removed]",
            "text/plain": [
              "<Figure size 432x288 with 1 Axes>"
            ]
          },
          "metadata": {
            "tags": []
          }
        }
      ]
    },
    {
      "cell_type": "markdown",
      "metadata": {
        "id": "vLU9fq6DREk7",
        "colab_type": "text"
      },
      "source": [
        "## QDA"
      ]
    },
    {
      "cell_type": "code",
      "metadata": {
        "id": "Kn8y3keKkih_",
        "colab_type": "code",
        "colab": {}
      },
      "source": [
        "qda = QuadraticDiscriminantAnalysis()\n",
        "qda.fit(X=X_traintf,y=y_train)\n",
        "y_pred = qda.predict(X_testtf)\n",
        "acc_qda=accuracy_score(y_pred,y_test)"
      ],
      "execution_count": 0,
      "outputs": []
    },
    {
      "cell_type": "code",
      "metadata": {
        "id": "h2BDP83zY5Ry",
        "colab_type": "code",
        "outputId": "824acc5e-5c4d-45fe-e092-dff475573a36",
        "colab": {
          "base_uri": "https://localhost:8080/",
          "height": 34
        }
      },
      "source": [
        "print('Accuracy sur le test: {:.2f}'.format(acc_qda))"
      ],
      "execution_count": 0,
      "outputs": [
        {
          "output_type": "stream",
          "text": [
            "Accuracy sur le test: 0.70\n"
          ],
          "name": "stdout"
        }
      ]
    },
    {
      "cell_type": "markdown",
      "metadata": {
        "colab_type": "text",
        "id": "EzyUmIQ4JZfV"
      },
      "source": [
        "On affiche la matrice de confusion pour ce modèle."
      ]
    },
    {
      "cell_type": "code",
      "metadata": {
        "colab_type": "code",
        "outputId": "c4371459-bfb7-40e4-ccc2-fe68c4584a4d",
        "id": "-EWlhSc9JZfv",
        "colab": {
          "base_uri": "https://localhost:8080/",
          "height": 52
        }
      },
      "source": [
        "confusion_matrix(y_pred,y_test)"
      ],
      "execution_count": 0,
      "outputs": [
        {
          "output_type": "execute_result",
          "data": {
            "text/plain": [
              "array([[9451, 4551],\n",
              "       [3049, 7949]])"
            ]
          },
          "metadata": {
            "tags": []
          },
          "execution_count": 153
        }
      ]
    },
    {
      "cell_type": "code",
      "metadata": {
        "id": "edtiZ4XFjMpJ",
        "colab_type": "code",
        "outputId": "7b4df46f-e92a-480b-c4f6-91af7977c9c5",
        "colab": {
          "base_uri": "https://localhost:8080/",
          "height": 295
        }
      },
      "source": [
        "fpr7, tpr7, threshold = metrics.roc_curve(y_test, y_pred)\n",
        "roc_auc = metrics.auc(fpr7, tpr7)\n",
        "\n",
        "plt.plot(fpr7, tpr7, marker='.')\n",
        "\n",
        "plt.title(\"Courbe ROC - QDA\")\n",
        "plt.xlabel(\"False positives\")\n",
        "plt.ylabel(\"True positives\")\n",
        "plt.show()"
      ],
      "execution_count": 0,
      "outputs": [
        {
          "output_type": "display_data",
          "data": {
            "image/png": "[encoded data removed]",
            "text/plain": [
              "<Figure size 432x288 with 1 Axes>"
            ]
          },
          "metadata": {
            "tags": []
          }
        }
      ]
    },
    {
      "cell_type": "markdown",
      "metadata": {
        "id": "sM9YSNSI49US",
        "colab_type": "text"
      },
      "source": [
        "## Graphes tfidf"
      ]
    },
    {
      "cell_type": "code",
      "metadata": {
        "id": "smu6In6ZZIRK",
        "colab_type": "code",
        "colab": {}
      },
      "source": [
        "algo=[\"Naive Bayes\",\"LDA\",\"QDA\"]\n",
        "accu=[acc_nbtfidf,acc_lda,acc_qda]"
      ],
      "execution_count": 0,
      "outputs": []
    },
    {
      "cell_type": "code",
      "metadata": {
        "id": "pQcnyjKrZBgL",
        "colab_type": "code",
        "outputId": "8567368e-216c-4c30-89ca-389a88cdb7ba",
        "colab": {
          "base_uri": "https://localhost:8080/",
          "height": 312
        }
      },
      "source": [
        "plt.plot(algo,accu,'*')\n",
        "plt.title(\"Accuracy sur le test en fonction des différents algorithmes - TF-IDF\")\n",
        "plt.xlabel(\"algorithmes\")\n",
        "plt.ylabel(\"accuracy\")"
      ],
      "execution_count": 0,
      "outputs": [
        {
          "output_type": "execute_result",
          "data": {
            "text/plain": [
              "Text(0, 0.5, 'accuracy')"
            ]
          },
          "metadata": {
            "tags": []
          },
          "execution_count": 156
        },
        {
          "output_type": "display_data",
          "data": {
            "image/png": "[encoded data removed]",
            "text/plain": [
              "<Figure size 432x288 with 1 Axes>"
            ]
          },
          "metadata": {
            "tags": []
          }
        }
      ]
    },
    {
      "cell_type": "markdown",
      "metadata": {
        "id": "BHUZLGhnjUWm",
        "colab_type": "text"
      },
      "source": [
        "Courbes ROC"
      ]
    },
    {
      "cell_type": "code",
      "metadata": {
        "id": "9flfvoBUkdwm",
        "colab_type": "code",
        "outputId": "a49c3646-724a-43f3-e79e-877e60217d2c",
        "colab": {
          "base_uri": "https://localhost:8080/",
          "height": 295
        }
      },
      "source": [
        "plt.plot(fpr5, tpr5, marker='.',label='Naive Bayes')\n",
        "plt.plot(fpr6, tpr6, marker='.',label='LDA')\n",
        "plt.plot(fpr7, tpr7, marker='.',label='QDA')\n",
        "plt.title(\"Courbes ROC pour différents algorithmes - TF-IDF\")\n",
        "plt.xlabel(\"False positives\")\n",
        "plt.ylabel(\"True positives\")\n",
        "plt.legend(loc=\"lower right\")\n",
        "plt.show()"
      ],
      "execution_count": 0,
      "outputs": [
        {
          "output_type": "display_data",
          "data": {
            "image/png": "[encoded data removed]",
            "text/plain": [
              "<Figure size 432x288 with 1 Axes>"
            ]
          },
          "metadata": {
            "tags": []
          }
        }
      ]
    },
    {
      "cell_type": "markdown",
      "metadata": {
        "id": "FOhpsdfc4_2B",
        "colab_type": "text"
      },
      "source": [
        "On remarque que le meilleur algorithme avec TF-IDF est le LDA."
      ]
    },
    {
      "cell_type": "markdown",
      "metadata": {
        "id": "OFAZSZj8s-BE",
        "colab_type": "text"
      },
      "source": [
        "#Conclusion \n",
        "\n",
        "En comparant les accuracy sur le test et les courbes Roc, on a remarqué que le meilleur algorithme est celui de la régression logistique avec les counts. \\\\\n",
        "En revanche, avec le TF-IDF les algorithmes produisent des accuracy plus faible ce qui peut être expliquer par la limitation de la taille du dictionnaire.\n"
      ]
    }
  ]
}